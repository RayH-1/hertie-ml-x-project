{
 "cells": [
  {
   "cell_type": "markdown",
   "id": "e8600bb9",
   "metadata": {},
   "source": [
    "# Setup"
   ]
  },
  {
   "cell_type": "code",
   "execution_count": 1,
   "id": "aab05eec",
   "metadata": {
    "ExecuteTime": {
     "end_time": "2024-04-10T20:16:38.431651Z",
     "start_time": "2024-04-10T20:16:38.001643Z"
    }
   },
   "outputs": [],
   "source": [
    "import pandas as pd"
   ]
  },
  {
   "cell_type": "markdown",
   "id": "a79369ff",
   "metadata": {},
   "source": [
    "## To drop:\n",
    "\n",
    "**Notes**\n",
    "believable,\n",
    "harmful,\n",
    "validationDifficulty,\n",
    "summary\n",
    "\n",
    "**Ratings**\n",
    "helpful\n",
    "notHelpful\n",
    "helpfulEmpathetic\n",
    "helpfulInformative\n",
    "helpfulUniqueContext\t\n",
    "NotHelpfulOpinionSpeculationOrBias\n",
    "notHelpfulOutdated\n",
    "notHelpfulOffTopic\n",
    "\n",
    "**User Enrollment**\n",
    "Has no deprecated columns.\n",
    "\n",
    "**Any null values AFTER random assignment.**"
   ]
  },
  {
   "cell_type": "code",
   "execution_count": 2,
   "id": "0f858e6b",
   "metadata": {
    "ExecuteTime": {
     "end_time": "2024-04-10T20:16:38.447650Z",
     "start_time": "2024-04-10T20:16:38.433644Z"
    }
   },
   "outputs": [],
   "source": [
    "file_path = r\"~\\Documents\\Hertie School\\22_Machine-Learning\\hertie-ml-x-project\\1_Raw_Data\\ratings.tsv\"\n",
    "notes_fp = r\"~\\Documents\\Hertie School\\22_Machine-Learning\\hertie-ml-x-project\\1_Raw_Data\\notes.tsv\"\n",
    "ue_fp = r\"~\\Documents\\Hertie School\\22_Machine-Learning\\hertie-ml-x-project\\1_Raw_Data\\userEnrollment.tsv\""
   ]
  },
  {
   "cell_type": "markdown",
   "id": "6a12fe24",
   "metadata": {},
   "source": [
    "**Open the Ratings file**"
   ]
  },
  {
   "cell_type": "code",
   "execution_count": 3,
   "id": "025124b7",
   "metadata": {
    "ExecuteTime": {
     "end_time": "2024-04-10T20:16:50.086655Z",
     "start_time": "2024-04-10T20:16:38.448644Z"
    }
   },
   "outputs": [],
   "source": [
    "raw = pd.read_csv(file_path, delimiter = '\\t')"
   ]
  },
  {
   "cell_type": "code",
   "execution_count": 4,
   "id": "a18bf2e8",
   "metadata": {
    "ExecuteTime": {
     "end_time": "2024-04-10T20:16:50.118647Z",
     "start_time": "2024-04-10T20:16:50.087647Z"
    }
   },
   "outputs": [
    {
     "data": {
      "text/plain": "                noteId                                 raterParticipantId  \\\n0  1743245493138862440  B2D8708DD64F4A263D237C309DDFC40F96962E5B6CF8E2...   \n1  1746259110167777732  B2D8708DD64F4A263D237C309DDFC40F96962E5B6CF8E2...   \n2  1748100277331271705  B2D8708DD64F4A263D237C309DDFC40F96962E5B6CF8E2...   \n3  1749931359206871054  B2D8708DD64F4A263D237C309DDFC40F96962E5B6CF8E2...   \n4  1755964879553327466  B2D8708DD64F4A263D237C309DDFC40F96962E5B6CF8E2...   \n\n   createdAtMillis  version  agree  disagree  helpful  notHelpful  \\\n0    1704743786947        2      0         0        0           0   \n1    1705251123061        2      0         0        0           0   \n2    1706638688163        2      0         0        0           0   \n3    1707621015370        2      0         0        0           0   \n4    1707509443077        2      0         0        0           0   \n\n   helpfulnessLevel  helpfulOther  ...  notHelpfulMissingKeyPoints  \\\n0           HELPFUL             0  ...                           0   \n1           HELPFUL             0  ...                           0   \n2           HELPFUL             0  ...                           0   \n3           HELPFUL             0  ...                           0   \n4  SOMEWHAT_HELPFUL             0  ...                           0   \n\n   notHelpfulOutdated  notHelpfulHardToUnderstand  \\\n0                   0                           0   \n1                   0                           0   \n2                   0                           0   \n3                   0                           0   \n4                   0                           0   \n\n   notHelpfulArgumentativeOrBiased  notHelpfulOffTopic  \\\n0                                0                   0   \n1                                0                   0   \n2                                0                   0   \n3                                0                   0   \n4                                0                   0   \n\n   notHelpfulSpamHarassmentOrAbuse  notHelpfulIrrelevantSources  \\\n0                                0                            0   \n1                                0                            0   \n2                                0                            0   \n3                                0                            0   \n4                                0                            0   \n\n   notHelpfulOpinionSpeculation  notHelpfulNoteNotNeeded       ratedOnTweetId  \n0                             0                        0  1742976476432196100  \n1                             0                        0  1746211750507417736  \n2                             0                        0  1748050105327063491  \n3                             0                        0  1749839770224566328  \n4                             0                        0  1755959073189617680  \n\n[5 rows x 32 columns]",
      "text/html": "<div>\n<style scoped>\n    .dataframe tbody tr th:only-of-type {\n        vertical-align: middle;\n    }\n\n    .dataframe tbody tr th {\n        vertical-align: top;\n    }\n\n    .dataframe thead th {\n        text-align: right;\n    }\n</style>\n<table border=\"1\" class=\"dataframe\">\n  <thead>\n    <tr style=\"text-align: right;\">\n      <th></th>\n      <th>noteId</th>\n      <th>raterParticipantId</th>\n      <th>createdAtMillis</th>\n      <th>version</th>\n      <th>agree</th>\n      <th>disagree</th>\n      <th>helpful</th>\n      <th>notHelpful</th>\n      <th>helpfulnessLevel</th>\n      <th>helpfulOther</th>\n      <th>...</th>\n      <th>notHelpfulMissingKeyPoints</th>\n      <th>notHelpfulOutdated</th>\n      <th>notHelpfulHardToUnderstand</th>\n      <th>notHelpfulArgumentativeOrBiased</th>\n      <th>notHelpfulOffTopic</th>\n      <th>notHelpfulSpamHarassmentOrAbuse</th>\n      <th>notHelpfulIrrelevantSources</th>\n      <th>notHelpfulOpinionSpeculation</th>\n      <th>notHelpfulNoteNotNeeded</th>\n      <th>ratedOnTweetId</th>\n    </tr>\n  </thead>\n  <tbody>\n    <tr>\n      <th>0</th>\n      <td>1743245493138862440</td>\n      <td>B2D8708DD64F4A263D237C309DDFC40F96962E5B6CF8E2...</td>\n      <td>1704743786947</td>\n      <td>2</td>\n      <td>0</td>\n      <td>0</td>\n      <td>0</td>\n      <td>0</td>\n      <td>HELPFUL</td>\n      <td>0</td>\n      <td>...</td>\n      <td>0</td>\n      <td>0</td>\n      <td>0</td>\n      <td>0</td>\n      <td>0</td>\n      <td>0</td>\n      <td>0</td>\n      <td>0</td>\n      <td>0</td>\n      <td>1742976476432196100</td>\n    </tr>\n    <tr>\n      <th>1</th>\n      <td>1746259110167777732</td>\n      <td>B2D8708DD64F4A263D237C309DDFC40F96962E5B6CF8E2...</td>\n      <td>1705251123061</td>\n      <td>2</td>\n      <td>0</td>\n      <td>0</td>\n      <td>0</td>\n      <td>0</td>\n      <td>HELPFUL</td>\n      <td>0</td>\n      <td>...</td>\n      <td>0</td>\n      <td>0</td>\n      <td>0</td>\n      <td>0</td>\n      <td>0</td>\n      <td>0</td>\n      <td>0</td>\n      <td>0</td>\n      <td>0</td>\n      <td>1746211750507417736</td>\n    </tr>\n    <tr>\n      <th>2</th>\n      <td>1748100277331271705</td>\n      <td>B2D8708DD64F4A263D237C309DDFC40F96962E5B6CF8E2...</td>\n      <td>1706638688163</td>\n      <td>2</td>\n      <td>0</td>\n      <td>0</td>\n      <td>0</td>\n      <td>0</td>\n      <td>HELPFUL</td>\n      <td>0</td>\n      <td>...</td>\n      <td>0</td>\n      <td>0</td>\n      <td>0</td>\n      <td>0</td>\n      <td>0</td>\n      <td>0</td>\n      <td>0</td>\n      <td>0</td>\n      <td>0</td>\n      <td>1748050105327063491</td>\n    </tr>\n    <tr>\n      <th>3</th>\n      <td>1749931359206871054</td>\n      <td>B2D8708DD64F4A263D237C309DDFC40F96962E5B6CF8E2...</td>\n      <td>1707621015370</td>\n      <td>2</td>\n      <td>0</td>\n      <td>0</td>\n      <td>0</td>\n      <td>0</td>\n      <td>HELPFUL</td>\n      <td>0</td>\n      <td>...</td>\n      <td>0</td>\n      <td>0</td>\n      <td>0</td>\n      <td>0</td>\n      <td>0</td>\n      <td>0</td>\n      <td>0</td>\n      <td>0</td>\n      <td>0</td>\n      <td>1749839770224566328</td>\n    </tr>\n    <tr>\n      <th>4</th>\n      <td>1755964879553327466</td>\n      <td>B2D8708DD64F4A263D237C309DDFC40F96962E5B6CF8E2...</td>\n      <td>1707509443077</td>\n      <td>2</td>\n      <td>0</td>\n      <td>0</td>\n      <td>0</td>\n      <td>0</td>\n      <td>SOMEWHAT_HELPFUL</td>\n      <td>0</td>\n      <td>...</td>\n      <td>0</td>\n      <td>0</td>\n      <td>0</td>\n      <td>0</td>\n      <td>0</td>\n      <td>0</td>\n      <td>0</td>\n      <td>0</td>\n      <td>0</td>\n      <td>1755959073189617680</td>\n    </tr>\n  </tbody>\n</table>\n<p>5 rows × 32 columns</p>\n</div>"
     },
     "execution_count": 4,
     "metadata": {},
     "output_type": "execute_result"
    }
   ],
   "source": [
    "raw.head()"
   ]
  },
  {
   "cell_type": "code",
   "execution_count": 5,
   "id": "5649b5df",
   "metadata": {
    "ExecuteTime": {
     "end_time": "2024-04-10T20:16:50.659649Z",
     "start_time": "2024-04-10T20:16:50.120647Z"
    }
   },
   "outputs": [],
   "source": [
    "random_raw = raw.sample(frac=0.02469, random_state = 69420)"
   ]
  },
  {
   "cell_type": "code",
   "execution_count": 6,
   "id": "c4678818",
   "metadata": {
    "ExecuteTime": {
     "end_time": "2024-04-10T20:16:50.675652Z",
     "start_time": "2024-04-10T20:16:50.660648Z"
    }
   },
   "outputs": [
    {
     "data": {
      "text/plain": "                      noteId  \\\n9364138  1761266554724131298   \n3732057  1749115176345821522   \n44916    1657432813514240007   \n9028062  1736556082275778776   \n154481   1695023741590233289   \n\n                                        raterParticipantId  createdAtMillis  \\\n9364138  49D3EC9394CFA8D34858BA3B634DF8B13A29DF22F56E38...    1708756408185   \n3732057  FBFC3E6094D2E063FC95321B0284CDF9EDCCE347E8DC9E...    1705867550251   \n44916    E9EE0EBEACD030DD0EB9F05ADFE1911B8436D0F8E326D1...    1684022553110   \n9028062  348A77843E3CF15D4168233C9BA8DF97DFF472897A3797...    1702922758645   \n154481   88733EA1B79B5367B033493F21033C00EC180D554D3D6B...    1693030322913   \n\n         version  agree  disagree  helpful  notHelpful helpfulnessLevel  \\\n9364138        2      0         0        0           0          HELPFUL   \n3732057        2      0         0        0           0      NOT_HELPFUL   \n44916          2      0         0        0           0          HELPFUL   \n9028062        2      0         0        0           0          HELPFUL   \n154481         2      0         0        0           0      NOT_HELPFUL   \n\n         helpfulOther  ...  notHelpfulMissingKeyPoints  notHelpfulOutdated  \\\n9364138             0  ...                           0                   0   \n3732057             0  ...                           0                   0   \n44916               0  ...                           0                   0   \n9028062             0  ...                           0                   0   \n154481              0  ...                           1                   0   \n\n         notHelpfulHardToUnderstand  notHelpfulArgumentativeOrBiased  \\\n9364138                           0                                0   \n3732057                           0                                0   \n44916                             0                                0   \n9028062                           0                                0   \n154481                            0                                0   \n\n         notHelpfulOffTopic  notHelpfulSpamHarassmentOrAbuse  \\\n9364138                   0                                0   \n3732057                   0                                0   \n44916                     0                                0   \n9028062                   0                                0   \n154481                    0                                0   \n\n         notHelpfulIrrelevantSources  notHelpfulOpinionSpeculation  \\\n9364138                            0                             0   \n3732057                            0                             0   \n44916                              0                             0   \n9028062                            0                             0   \n154481                             0                             0   \n\n         notHelpfulNoteNotNeeded       ratedOnTweetId  \n9364138                        0  1761005209612890563  \n3732057                        1  1749047519265632440  \n44916                          0                   -1  \n9028062                        0  1736432316514242971  \n154481                         0  1695013353230664068  \n\n[5 rows x 32 columns]",
      "text/html": "<div>\n<style scoped>\n    .dataframe tbody tr th:only-of-type {\n        vertical-align: middle;\n    }\n\n    .dataframe tbody tr th {\n        vertical-align: top;\n    }\n\n    .dataframe thead th {\n        text-align: right;\n    }\n</style>\n<table border=\"1\" class=\"dataframe\">\n  <thead>\n    <tr style=\"text-align: right;\">\n      <th></th>\n      <th>noteId</th>\n      <th>raterParticipantId</th>\n      <th>createdAtMillis</th>\n      <th>version</th>\n      <th>agree</th>\n      <th>disagree</th>\n      <th>helpful</th>\n      <th>notHelpful</th>\n      <th>helpfulnessLevel</th>\n      <th>helpfulOther</th>\n      <th>...</th>\n      <th>notHelpfulMissingKeyPoints</th>\n      <th>notHelpfulOutdated</th>\n      <th>notHelpfulHardToUnderstand</th>\n      <th>notHelpfulArgumentativeOrBiased</th>\n      <th>notHelpfulOffTopic</th>\n      <th>notHelpfulSpamHarassmentOrAbuse</th>\n      <th>notHelpfulIrrelevantSources</th>\n      <th>notHelpfulOpinionSpeculation</th>\n      <th>notHelpfulNoteNotNeeded</th>\n      <th>ratedOnTweetId</th>\n    </tr>\n  </thead>\n  <tbody>\n    <tr>\n      <th>9364138</th>\n      <td>1761266554724131298</td>\n      <td>49D3EC9394CFA8D34858BA3B634DF8B13A29DF22F56E38...</td>\n      <td>1708756408185</td>\n      <td>2</td>\n      <td>0</td>\n      <td>0</td>\n      <td>0</td>\n      <td>0</td>\n      <td>HELPFUL</td>\n      <td>0</td>\n      <td>...</td>\n      <td>0</td>\n      <td>0</td>\n      <td>0</td>\n      <td>0</td>\n      <td>0</td>\n      <td>0</td>\n      <td>0</td>\n      <td>0</td>\n      <td>0</td>\n      <td>1761005209612890563</td>\n    </tr>\n    <tr>\n      <th>3732057</th>\n      <td>1749115176345821522</td>\n      <td>FBFC3E6094D2E063FC95321B0284CDF9EDCCE347E8DC9E...</td>\n      <td>1705867550251</td>\n      <td>2</td>\n      <td>0</td>\n      <td>0</td>\n      <td>0</td>\n      <td>0</td>\n      <td>NOT_HELPFUL</td>\n      <td>0</td>\n      <td>...</td>\n      <td>0</td>\n      <td>0</td>\n      <td>0</td>\n      <td>0</td>\n      <td>0</td>\n      <td>0</td>\n      <td>0</td>\n      <td>0</td>\n      <td>1</td>\n      <td>1749047519265632440</td>\n    </tr>\n    <tr>\n      <th>44916</th>\n      <td>1657432813514240007</td>\n      <td>E9EE0EBEACD030DD0EB9F05ADFE1911B8436D0F8E326D1...</td>\n      <td>1684022553110</td>\n      <td>2</td>\n      <td>0</td>\n      <td>0</td>\n      <td>0</td>\n      <td>0</td>\n      <td>HELPFUL</td>\n      <td>0</td>\n      <td>...</td>\n      <td>0</td>\n      <td>0</td>\n      <td>0</td>\n      <td>0</td>\n      <td>0</td>\n      <td>0</td>\n      <td>0</td>\n      <td>0</td>\n      <td>0</td>\n      <td>-1</td>\n    </tr>\n    <tr>\n      <th>9028062</th>\n      <td>1736556082275778776</td>\n      <td>348A77843E3CF15D4168233C9BA8DF97DFF472897A3797...</td>\n      <td>1702922758645</td>\n      <td>2</td>\n      <td>0</td>\n      <td>0</td>\n      <td>0</td>\n      <td>0</td>\n      <td>HELPFUL</td>\n      <td>0</td>\n      <td>...</td>\n      <td>0</td>\n      <td>0</td>\n      <td>0</td>\n      <td>0</td>\n      <td>0</td>\n      <td>0</td>\n      <td>0</td>\n      <td>0</td>\n      <td>0</td>\n      <td>1736432316514242971</td>\n    </tr>\n    <tr>\n      <th>154481</th>\n      <td>1695023741590233289</td>\n      <td>88733EA1B79B5367B033493F21033C00EC180D554D3D6B...</td>\n      <td>1693030322913</td>\n      <td>2</td>\n      <td>0</td>\n      <td>0</td>\n      <td>0</td>\n      <td>0</td>\n      <td>NOT_HELPFUL</td>\n      <td>0</td>\n      <td>...</td>\n      <td>1</td>\n      <td>0</td>\n      <td>0</td>\n      <td>0</td>\n      <td>0</td>\n      <td>0</td>\n      <td>0</td>\n      <td>0</td>\n      <td>0</td>\n      <td>1695013353230664068</td>\n    </tr>\n  </tbody>\n</table>\n<p>5 rows × 32 columns</p>\n</div>"
     },
     "execution_count": 6,
     "metadata": {},
     "output_type": "execute_result"
    }
   ],
   "source": [
    "random_raw = pd.DataFrame(random_raw)\n",
    "\n",
    "random_raw.head()"
   ]
  },
  {
   "cell_type": "markdown",
   "source": [
    "**Open the notes file**"
   ],
   "metadata": {
    "collapsed": false
   },
   "id": "c4c4b082d5061dd8"
  },
  {
   "cell_type": "code",
   "outputs": [
    {
     "name": "stderr",
     "output_type": "stream",
     "text": [
      "C:\\Users\\rafid\\AppData\\Local\\Temp\\ipykernel_30172\\3216553112.py:1: DtypeWarning: Columns (5,6,7) have mixed types. Specify dtype option on import or set low_memory=False.\n",
      "  notes_raw = pd.read_csv(notes_fp, delimiter = '\\t')\n"
     ]
    }
   ],
   "source": [
    "notes_raw = pd.read_csv(notes_fp, delimiter = '\\t')"
   ],
   "metadata": {
    "collapsed": false,
    "ExecuteTime": {
     "end_time": "2024-04-10T20:16:53.814656Z",
     "start_time": "2024-04-10T20:16:50.676647Z"
    }
   },
   "id": "3ccb726d86026703",
   "execution_count": 7
  },
  {
   "cell_type": "code",
   "outputs": [
    {
     "data": {
      "text/plain": "                noteId                            noteAuthorParticipantId  \\\n0  1537142913737428992  5684B38EB58FD8BE75ABA37F0BE040EC70380B002ADF9D...   \n1  1537145358521839617  5684B38EB58FD8BE75ABA37F0BE040EC70380B002ADF9D...   \n2  1537147343715282945  5684B38EB58FD8BE75ABA37F0BE040EC70380B002ADF9D...   \n3  1537204430730211328  5684B38EB58FD8BE75ABA37F0BE040EC70380B002ADF9D...   \n4  1540422295029551104  5684B38EB58FD8BE75ABA37F0BE040EC70380B002ADF9D...   \n\n   createdAtMillis              tweetId  \\\n0    1655318404027  1377030478167937024   \n1    1655318986910  1536848327979016193   \n2    1655319460217  1537080831751102467   \n3    1655333070821  1537196168953974784   \n4    1656100269455  1540087463099736065   \n\n                          classification          believable  \\\n0  MISINFORMED_OR_POTENTIALLY_MISLEADING  BELIEVABLE_BY_MANY   \n1                         NOT_MISLEADING                 NaN   \n2  MISINFORMED_OR_POTENTIALLY_MISLEADING  BELIEVABLE_BY_MANY   \n3  MISINFORMED_OR_POTENTIALLY_MISLEADING  BELIEVABLE_BY_MANY   \n4  MISINFORMED_OR_POTENTIALLY_MISLEADING  BELIEVABLE_BY_MANY   \n\n             harmful validationDifficulty  misleadingOther  \\\n0  CONSIDERABLE_HARM                 EASY                0   \n1                NaN                  NaN                0   \n2        LITTLE_HARM                 EASY                0   \n3  CONSIDERABLE_HARM                 EASY                0   \n4  CONSIDERABLE_HARM                 EASY                0   \n\n   misleadingFactualError  ...  misleadingUnverifiedClaimAsFact  \\\n0                       1  ...                                1   \n1                       0  ...                                0   \n2                       0  ...                                0   \n3                       1  ...                                1   \n4                       1  ...                                1   \n\n   misleadingSatire  notMisleadingOther  notMisleadingFactuallyCorrect  \\\n0                 0                   0                              0   \n1                 0                   0                              0   \n2                 0                   0                              0   \n3                 0                   0                              0   \n4                 0                   0                              0   \n\n   notMisleadingOutdatedButNotWhenWritten  notMisleadingClearlySatire  \\\n0                                       0                           0   \n1                                       0                           1   \n2                                       0                           0   \n3                                       0                           0   \n4                                       0                           0   \n\n   notMisleadingPersonalOpinion  trustworthySources  \\\n0                             0                   1   \n1                             1                   0   \n2                             0                   1   \n3                             0                   1   \n4                             0                   1   \n\n                                             summary  isMediaNote  \n0  Forbes has a good rundown of the investigation...            0  \n1  They are expressing a personal opinion in a st...            0  \n2  Teslas purchased after 12/31/19 are not eligib...            0  \n3  The Jan 6th riots were encouraged by the sitti...            0  \n4  The Committee has been found by numerous court...            0  \n\n[5 rows x 23 columns]",
      "text/html": "<div>\n<style scoped>\n    .dataframe tbody tr th:only-of-type {\n        vertical-align: middle;\n    }\n\n    .dataframe tbody tr th {\n        vertical-align: top;\n    }\n\n    .dataframe thead th {\n        text-align: right;\n    }\n</style>\n<table border=\"1\" class=\"dataframe\">\n  <thead>\n    <tr style=\"text-align: right;\">\n      <th></th>\n      <th>noteId</th>\n      <th>noteAuthorParticipantId</th>\n      <th>createdAtMillis</th>\n      <th>tweetId</th>\n      <th>classification</th>\n      <th>believable</th>\n      <th>harmful</th>\n      <th>validationDifficulty</th>\n      <th>misleadingOther</th>\n      <th>misleadingFactualError</th>\n      <th>...</th>\n      <th>misleadingUnverifiedClaimAsFact</th>\n      <th>misleadingSatire</th>\n      <th>notMisleadingOther</th>\n      <th>notMisleadingFactuallyCorrect</th>\n      <th>notMisleadingOutdatedButNotWhenWritten</th>\n      <th>notMisleadingClearlySatire</th>\n      <th>notMisleadingPersonalOpinion</th>\n      <th>trustworthySources</th>\n      <th>summary</th>\n      <th>isMediaNote</th>\n    </tr>\n  </thead>\n  <tbody>\n    <tr>\n      <th>0</th>\n      <td>1537142913737428992</td>\n      <td>5684B38EB58FD8BE75ABA37F0BE040EC70380B002ADF9D...</td>\n      <td>1655318404027</td>\n      <td>1377030478167937024</td>\n      <td>MISINFORMED_OR_POTENTIALLY_MISLEADING</td>\n      <td>BELIEVABLE_BY_MANY</td>\n      <td>CONSIDERABLE_HARM</td>\n      <td>EASY</td>\n      <td>0</td>\n      <td>1</td>\n      <td>...</td>\n      <td>1</td>\n      <td>0</td>\n      <td>0</td>\n      <td>0</td>\n      <td>0</td>\n      <td>0</td>\n      <td>0</td>\n      <td>1</td>\n      <td>Forbes has a good rundown of the investigation...</td>\n      <td>0</td>\n    </tr>\n    <tr>\n      <th>1</th>\n      <td>1537145358521839617</td>\n      <td>5684B38EB58FD8BE75ABA37F0BE040EC70380B002ADF9D...</td>\n      <td>1655318986910</td>\n      <td>1536848327979016193</td>\n      <td>NOT_MISLEADING</td>\n      <td>NaN</td>\n      <td>NaN</td>\n      <td>NaN</td>\n      <td>0</td>\n      <td>0</td>\n      <td>...</td>\n      <td>0</td>\n      <td>0</td>\n      <td>0</td>\n      <td>0</td>\n      <td>0</td>\n      <td>1</td>\n      <td>1</td>\n      <td>0</td>\n      <td>They are expressing a personal opinion in a st...</td>\n      <td>0</td>\n    </tr>\n    <tr>\n      <th>2</th>\n      <td>1537147343715282945</td>\n      <td>5684B38EB58FD8BE75ABA37F0BE040EC70380B002ADF9D...</td>\n      <td>1655319460217</td>\n      <td>1537080831751102467</td>\n      <td>MISINFORMED_OR_POTENTIALLY_MISLEADING</td>\n      <td>BELIEVABLE_BY_MANY</td>\n      <td>LITTLE_HARM</td>\n      <td>EASY</td>\n      <td>0</td>\n      <td>0</td>\n      <td>...</td>\n      <td>0</td>\n      <td>0</td>\n      <td>0</td>\n      <td>0</td>\n      <td>0</td>\n      <td>0</td>\n      <td>0</td>\n      <td>1</td>\n      <td>Teslas purchased after 12/31/19 are not eligib...</td>\n      <td>0</td>\n    </tr>\n    <tr>\n      <th>3</th>\n      <td>1537204430730211328</td>\n      <td>5684B38EB58FD8BE75ABA37F0BE040EC70380B002ADF9D...</td>\n      <td>1655333070821</td>\n      <td>1537196168953974784</td>\n      <td>MISINFORMED_OR_POTENTIALLY_MISLEADING</td>\n      <td>BELIEVABLE_BY_MANY</td>\n      <td>CONSIDERABLE_HARM</td>\n      <td>EASY</td>\n      <td>0</td>\n      <td>1</td>\n      <td>...</td>\n      <td>1</td>\n      <td>0</td>\n      <td>0</td>\n      <td>0</td>\n      <td>0</td>\n      <td>0</td>\n      <td>0</td>\n      <td>1</td>\n      <td>The Jan 6th riots were encouraged by the sitti...</td>\n      <td>0</td>\n    </tr>\n    <tr>\n      <th>4</th>\n      <td>1540422295029551104</td>\n      <td>5684B38EB58FD8BE75ABA37F0BE040EC70380B002ADF9D...</td>\n      <td>1656100269455</td>\n      <td>1540087463099736065</td>\n      <td>MISINFORMED_OR_POTENTIALLY_MISLEADING</td>\n      <td>BELIEVABLE_BY_MANY</td>\n      <td>CONSIDERABLE_HARM</td>\n      <td>EASY</td>\n      <td>0</td>\n      <td>1</td>\n      <td>...</td>\n      <td>1</td>\n      <td>0</td>\n      <td>0</td>\n      <td>0</td>\n      <td>0</td>\n      <td>0</td>\n      <td>0</td>\n      <td>1</td>\n      <td>The Committee has been found by numerous court...</td>\n      <td>0</td>\n    </tr>\n  </tbody>\n</table>\n<p>5 rows × 23 columns</p>\n</div>"
     },
     "execution_count": 8,
     "metadata": {},
     "output_type": "execute_result"
    }
   ],
   "source": [
    "notes_raw.head()"
   ],
   "metadata": {
    "collapsed": false,
    "ExecuteTime": {
     "end_time": "2024-04-10T20:16:53.830648Z",
     "start_time": "2024-04-10T20:16:53.815649Z"
    }
   },
   "id": "3a4f4efb433317e2",
   "execution_count": 8
  },
  {
   "cell_type": "markdown",
   "source": [
    "**Open the userEnrollment file**"
   ],
   "metadata": {
    "collapsed": false
   },
   "id": "4f45b36d8a6bd5b7"
  },
  {
   "cell_type": "code",
   "outputs": [
    {
     "data": {
      "text/plain": "                                       participantId enrollmentState  \\\n0  B2D8708DD64F4A263D237C309DDFC40F96962E5B6CF8E2...         newUser   \n1  5684B38EB58FD8BE75ABA37F0BE040EC70380B002ADF9D...        earnedIn   \n2  1C0972F584F1BD912FB957D99A854609C93213D0A9C361...         newUser   \n3  78B383AA66981F722CB82AACB24CF853937CAC0F680DDB...        earnedIn   \n4  CAA3DEA7CFC07BD080F8BEFA3E6BC1575E6DE1BE2D3BBD...        earnedIn   \n\n   successfulRatingNeededToEarnIn  timestampOfLastStateChange  \\\n0                               5               1709578909625   \n1                               5               1709573510566   \n2                               5               1709578909625   \n3                               5               1709578909625   \n4                               5               1709578909625   \n\n   timestampOfLastEarnOut modelingPopulation  modelingGroup  \\\n0                       1               CORE           13.0   \n1                       1               CORE           13.0   \n2                       1               CORE           13.0   \n3                       1               CORE           13.0   \n4                       1               CORE           13.0   \n\n   numberOfTimesEarnedOut  \n0                       0  \n1                       0  \n2                       0  \n3                       0  \n4                       0  ",
      "text/html": "<div>\n<style scoped>\n    .dataframe tbody tr th:only-of-type {\n        vertical-align: middle;\n    }\n\n    .dataframe tbody tr th {\n        vertical-align: top;\n    }\n\n    .dataframe thead th {\n        text-align: right;\n    }\n</style>\n<table border=\"1\" class=\"dataframe\">\n  <thead>\n    <tr style=\"text-align: right;\">\n      <th></th>\n      <th>participantId</th>\n      <th>enrollmentState</th>\n      <th>successfulRatingNeededToEarnIn</th>\n      <th>timestampOfLastStateChange</th>\n      <th>timestampOfLastEarnOut</th>\n      <th>modelingPopulation</th>\n      <th>modelingGroup</th>\n      <th>numberOfTimesEarnedOut</th>\n    </tr>\n  </thead>\n  <tbody>\n    <tr>\n      <th>0</th>\n      <td>B2D8708DD64F4A263D237C309DDFC40F96962E5B6CF8E2...</td>\n      <td>newUser</td>\n      <td>5</td>\n      <td>1709578909625</td>\n      <td>1</td>\n      <td>CORE</td>\n      <td>13.0</td>\n      <td>0</td>\n    </tr>\n    <tr>\n      <th>1</th>\n      <td>5684B38EB58FD8BE75ABA37F0BE040EC70380B002ADF9D...</td>\n      <td>earnedIn</td>\n      <td>5</td>\n      <td>1709573510566</td>\n      <td>1</td>\n      <td>CORE</td>\n      <td>13.0</td>\n      <td>0</td>\n    </tr>\n    <tr>\n      <th>2</th>\n      <td>1C0972F584F1BD912FB957D99A854609C93213D0A9C361...</td>\n      <td>newUser</td>\n      <td>5</td>\n      <td>1709578909625</td>\n      <td>1</td>\n      <td>CORE</td>\n      <td>13.0</td>\n      <td>0</td>\n    </tr>\n    <tr>\n      <th>3</th>\n      <td>78B383AA66981F722CB82AACB24CF853937CAC0F680DDB...</td>\n      <td>earnedIn</td>\n      <td>5</td>\n      <td>1709578909625</td>\n      <td>1</td>\n      <td>CORE</td>\n      <td>13.0</td>\n      <td>0</td>\n    </tr>\n    <tr>\n      <th>4</th>\n      <td>CAA3DEA7CFC07BD080F8BEFA3E6BC1575E6DE1BE2D3BBD...</td>\n      <td>earnedIn</td>\n      <td>5</td>\n      <td>1709578909625</td>\n      <td>1</td>\n      <td>CORE</td>\n      <td>13.0</td>\n      <td>0</td>\n    </tr>\n  </tbody>\n</table>\n</div>"
     },
     "execution_count": 9,
     "metadata": {},
     "output_type": "execute_result"
    }
   ],
   "source": [
    "user = pd.read_csv(ue_fp, delimiter = '\\t')\n",
    "\n",
    "user.head()"
   ],
   "metadata": {
    "collapsed": false,
    "ExecuteTime": {
     "end_time": "2024-04-10T20:16:54.323648Z",
     "start_time": "2024-04-10T20:16:53.831648Z"
    }
   },
   "id": "ee4111d5de1609fd",
   "execution_count": 9
  },
  {
   "cell_type": "markdown",
   "id": "2aa63e6c",
   "metadata": {},
   "source": [
    "## Exploration"
   ]
  },
  {
   "cell_type": "markdown",
   "source": [
    "### Ratings"
   ],
   "metadata": {
    "collapsed": false
   },
   "id": "56a77c5b6b4c6dcc"
  },
  {
   "cell_type": "code",
   "outputs": [
    {
     "data": {
      "text/plain": "(233145, 32)"
     },
     "execution_count": 10,
     "metadata": {},
     "output_type": "execute_result"
    }
   ],
   "source": [
    "random_raw.shape"
   ],
   "metadata": {
    "ExecuteTime": {
     "end_time": "2024-04-10T20:16:54.338675Z",
     "start_time": "2024-04-10T20:16:54.324649Z"
    }
   },
   "id": "cb63b108",
   "execution_count": 10
  },
  {
   "cell_type": "code",
   "execution_count": 11,
   "id": "d1abc7cf",
   "metadata": {
    "ExecuteTime": {
     "end_time": "2024-04-10T20:16:54.354654Z",
     "start_time": "2024-04-10T20:16:54.339648Z"
    }
   },
   "outputs": [
    {
     "data": {
      "text/plain": "count    233145.000000\nmean          0.038071\nstd           0.191367\nmin           0.000000\n25%           0.000000\n50%           0.000000\n75%           0.000000\nmax           1.000000\nName: notHelpfulSpamHarassmentOrAbuse, dtype: float64"
     },
     "execution_count": 11,
     "metadata": {},
     "output_type": "execute_result"
    }
   ],
   "source": [
    "random_raw['notHelpfulSpamHarassmentOrAbuse'].describe()"
   ]
  },
  {
   "cell_type": "markdown",
   "source": [
    "### Notes "
   ],
   "metadata": {
    "collapsed": false
   },
   "id": "c83dc931aac421fc"
  },
  {
   "cell_type": "code",
   "outputs": [
    {
     "name": "stdout",
     "output_type": "stream",
     "text": [
      "False    692922\n",
      "Name: noteId, dtype: int64\n",
      "True     585216\n",
      "False    107706\n",
      "Name: noteAuthorParticipantId, dtype: int64\n"
     ]
    }
   ],
   "source": [
    "print(notes_raw[\"noteId\"].duplicated().value_counts())\n",
    "\n",
    "print(notes_raw[\"noteAuthorParticipantId\"].duplicated().value_counts())"
   ],
   "metadata": {
    "collapsed": false,
    "ExecuteTime": {
     "end_time": "2024-04-10T20:16:54.401648Z",
     "start_time": "2024-04-10T20:16:54.355649Z"
    }
   },
   "id": "de392a1e32b8a140",
   "execution_count": 12
  },
  {
   "cell_type": "markdown",
   "source": [
    "Because there are no duplicates in the `noteId`, it indicates that this is likely the joining key. "
   ],
   "metadata": {
    "collapsed": false
   },
   "id": "1f4be27eb06dcd73"
  },
  {
   "cell_type": "markdown",
   "source": [
    "## Modificaitons"
   ],
   "metadata": {
    "collapsed": false
   },
   "id": "3b6fe49571a49693"
  },
  {
   "cell_type": "markdown",
   "source": [
    "### Ratings Table"
   ],
   "metadata": {
    "collapsed": false
   },
   "id": "b7bb99e5ea2b89af"
  },
  {
   "cell_type": "code",
   "outputs": [
    {
     "data": {
      "text/plain": "                      noteId  \\\n9364138  1761266554724131298   \n3732057  1749115176345821522   \n44916    1657432813514240007   \n9028062  1736556082275778776   \n154481   1695023741590233289   \n\n                                        raterParticipantId  createdAtMillis  \\\n9364138  49D3EC9394CFA8D34858BA3B634DF8B13A29DF22F56E38...    1708756408185   \n3732057  FBFC3E6094D2E063FC95321B0284CDF9EDCCE347E8DC9E...    1705867550251   \n44916    E9EE0EBEACD030DD0EB9F05ADFE1911B8436D0F8E326D1...    1684022553110   \n9028062  348A77843E3CF15D4168233C9BA8DF97DFF472897A3797...    1702922758645   \n154481   88733EA1B79B5367B033493F21033C00EC180D554D3D6B...    1693030322913   \n\n         version  agree  disagree helpfulnessLevel  helpfulOther  \\\n9364138        2      0         0          HELPFUL             0   \n3732057        2      0         0      NOT_HELPFUL             0   \n44916          2      0         0          HELPFUL             0   \n9028062        2      0         0          HELPFUL             0   \n154481         2      0         0      NOT_HELPFUL             0   \n\n         helpfulClear  helpfulGoodSources  ...  notHelpfulIncorrect  \\\n9364138             1                   1  ...                    0   \n3732057             0                   0  ...                    0   \n44916               1                   1  ...                    0   \n9028062             0                   1  ...                    0   \n154481              0                   0  ...                    0   \n\n         notHelpfulSourcesMissingOrUnreliable  notHelpfulMissingKeyPoints  \\\n9364138                                     0                           0   \n3732057                                     0                           0   \n44916                                       0                           0   \n9028062                                     0                           0   \n154481                                      0                           1   \n\n         notHelpfulHardToUnderstand  notHelpfulArgumentativeOrBiased  \\\n9364138                           0                                0   \n3732057                           0                                0   \n44916                             0                                0   \n9028062                           0                                0   \n154481                            0                                0   \n\n         notHelpfulSpamHarassmentOrAbuse  notHelpfulIrrelevantSources  \\\n9364138                                0                            0   \n3732057                                0                            0   \n44916                                  0                            0   \n9028062                                0                            0   \n154481                                 0                            0   \n\n         notHelpfulOpinionSpeculation  notHelpfulNoteNotNeeded  \\\n9364138                             0                        0   \n3732057                             0                        1   \n44916                               0                        0   \n9028062                             0                        0   \n154481                              0                        0   \n\n              ratedOnTweetId  \n9364138  1761005209612890563  \n3732057  1749047519265632440  \n44916                     -1  \n9028062  1736432316514242971  \n154481   1695013353230664068  \n\n[5 rows x 24 columns]",
      "text/html": "<div>\n<style scoped>\n    .dataframe tbody tr th:only-of-type {\n        vertical-align: middle;\n    }\n\n    .dataframe tbody tr th {\n        vertical-align: top;\n    }\n\n    .dataframe thead th {\n        text-align: right;\n    }\n</style>\n<table border=\"1\" class=\"dataframe\">\n  <thead>\n    <tr style=\"text-align: right;\">\n      <th></th>\n      <th>noteId</th>\n      <th>raterParticipantId</th>\n      <th>createdAtMillis</th>\n      <th>version</th>\n      <th>agree</th>\n      <th>disagree</th>\n      <th>helpfulnessLevel</th>\n      <th>helpfulOther</th>\n      <th>helpfulClear</th>\n      <th>helpfulGoodSources</th>\n      <th>...</th>\n      <th>notHelpfulIncorrect</th>\n      <th>notHelpfulSourcesMissingOrUnreliable</th>\n      <th>notHelpfulMissingKeyPoints</th>\n      <th>notHelpfulHardToUnderstand</th>\n      <th>notHelpfulArgumentativeOrBiased</th>\n      <th>notHelpfulSpamHarassmentOrAbuse</th>\n      <th>notHelpfulIrrelevantSources</th>\n      <th>notHelpfulOpinionSpeculation</th>\n      <th>notHelpfulNoteNotNeeded</th>\n      <th>ratedOnTweetId</th>\n    </tr>\n  </thead>\n  <tbody>\n    <tr>\n      <th>9364138</th>\n      <td>1761266554724131298</td>\n      <td>49D3EC9394CFA8D34858BA3B634DF8B13A29DF22F56E38...</td>\n      <td>1708756408185</td>\n      <td>2</td>\n      <td>0</td>\n      <td>0</td>\n      <td>HELPFUL</td>\n      <td>0</td>\n      <td>1</td>\n      <td>1</td>\n      <td>...</td>\n      <td>0</td>\n      <td>0</td>\n      <td>0</td>\n      <td>0</td>\n      <td>0</td>\n      <td>0</td>\n      <td>0</td>\n      <td>0</td>\n      <td>0</td>\n      <td>1761005209612890563</td>\n    </tr>\n    <tr>\n      <th>3732057</th>\n      <td>1749115176345821522</td>\n      <td>FBFC3E6094D2E063FC95321B0284CDF9EDCCE347E8DC9E...</td>\n      <td>1705867550251</td>\n      <td>2</td>\n      <td>0</td>\n      <td>0</td>\n      <td>NOT_HELPFUL</td>\n      <td>0</td>\n      <td>0</td>\n      <td>0</td>\n      <td>...</td>\n      <td>0</td>\n      <td>0</td>\n      <td>0</td>\n      <td>0</td>\n      <td>0</td>\n      <td>0</td>\n      <td>0</td>\n      <td>0</td>\n      <td>1</td>\n      <td>1749047519265632440</td>\n    </tr>\n    <tr>\n      <th>44916</th>\n      <td>1657432813514240007</td>\n      <td>E9EE0EBEACD030DD0EB9F05ADFE1911B8436D0F8E326D1...</td>\n      <td>1684022553110</td>\n      <td>2</td>\n      <td>0</td>\n      <td>0</td>\n      <td>HELPFUL</td>\n      <td>0</td>\n      <td>1</td>\n      <td>1</td>\n      <td>...</td>\n      <td>0</td>\n      <td>0</td>\n      <td>0</td>\n      <td>0</td>\n      <td>0</td>\n      <td>0</td>\n      <td>0</td>\n      <td>0</td>\n      <td>0</td>\n      <td>-1</td>\n    </tr>\n    <tr>\n      <th>9028062</th>\n      <td>1736556082275778776</td>\n      <td>348A77843E3CF15D4168233C9BA8DF97DFF472897A3797...</td>\n      <td>1702922758645</td>\n      <td>2</td>\n      <td>0</td>\n      <td>0</td>\n      <td>HELPFUL</td>\n      <td>0</td>\n      <td>0</td>\n      <td>1</td>\n      <td>...</td>\n      <td>0</td>\n      <td>0</td>\n      <td>0</td>\n      <td>0</td>\n      <td>0</td>\n      <td>0</td>\n      <td>0</td>\n      <td>0</td>\n      <td>0</td>\n      <td>1736432316514242971</td>\n    </tr>\n    <tr>\n      <th>154481</th>\n      <td>1695023741590233289</td>\n      <td>88733EA1B79B5367B033493F21033C00EC180D554D3D6B...</td>\n      <td>1693030322913</td>\n      <td>2</td>\n      <td>0</td>\n      <td>0</td>\n      <td>NOT_HELPFUL</td>\n      <td>0</td>\n      <td>0</td>\n      <td>0</td>\n      <td>...</td>\n      <td>0</td>\n      <td>0</td>\n      <td>1</td>\n      <td>0</td>\n      <td>0</td>\n      <td>0</td>\n      <td>0</td>\n      <td>0</td>\n      <td>0</td>\n      <td>1695013353230664068</td>\n    </tr>\n  </tbody>\n</table>\n<p>5 rows × 24 columns</p>\n</div>"
     },
     "execution_count": 13,
     "metadata": {},
     "output_type": "execute_result"
    }
   ],
   "source": [
    "drop_ratings= ['helpful', 'notHelpful', 'helpfulEmpathetic', 'helpfulInformative',\n",
    "        'helpfulUniqueContext','notHelpfulOpinionSpeculationOrBias', \n",
    "        'notHelpfulOutdated' ,'notHelpfulOffTopic'] \n",
    "\n",
    "data = random_raw.drop(drop_ratings, axis = 1)\n",
    "data.head()"
   ],
   "metadata": {
    "ExecuteTime": {
     "end_time": "2024-04-10T20:16:54.433649Z",
     "start_time": "2024-04-10T20:16:54.402648Z"
    }
   },
   "id": "95bd78c9",
   "execution_count": 13
  },
  {
   "cell_type": "markdown",
   "source": [
    "### Notes Table"
   ],
   "metadata": {
    "collapsed": false
   },
   "id": "a1708ac849924fc0"
  },
  {
   "cell_type": "code",
   "outputs": [
    {
     "data": {
      "text/plain": "                noteId                            noteAuthorParticipantId  \\\n0  1537142913737428992  5684B38EB58FD8BE75ABA37F0BE040EC70380B002ADF9D...   \n1  1537145358521839617  5684B38EB58FD8BE75ABA37F0BE040EC70380B002ADF9D...   \n2  1537147343715282945  5684B38EB58FD8BE75ABA37F0BE040EC70380B002ADF9D...   \n3  1537204430730211328  5684B38EB58FD8BE75ABA37F0BE040EC70380B002ADF9D...   \n4  1540422295029551104  5684B38EB58FD8BE75ABA37F0BE040EC70380B002ADF9D...   \n\n   createdAtMillis              tweetId  \\\n0    1655318404027  1377030478167937024   \n1    1655318986910  1536848327979016193   \n2    1655319460217  1537080831751102467   \n3    1655333070821  1537196168953974784   \n4    1656100269455  1540087463099736065   \n\n                          classification  misleadingOther  \\\n0  MISINFORMED_OR_POTENTIALLY_MISLEADING                0   \n1                         NOT_MISLEADING                0   \n2  MISINFORMED_OR_POTENTIALLY_MISLEADING                0   \n3  MISINFORMED_OR_POTENTIALLY_MISLEADING                0   \n4  MISINFORMED_OR_POTENTIALLY_MISLEADING                0   \n\n   misleadingFactualError  misleadingManipulatedMedia  \\\n0                       1                           0   \n1                       0                           0   \n2                       0                           0   \n3                       1                           0   \n4                       1                           0   \n\n   misleadingOutdatedInformation  misleadingMissingImportantContext  \\\n0                              0                                  1   \n1                              0                                  0   \n2                              0                                  1   \n3                              1                                  1   \n4                              0                                  1   \n\n   misleadingUnverifiedClaimAsFact  misleadingSatire  notMisleadingOther  \\\n0                                1                 0                   0   \n1                                0                 0                   0   \n2                                0                 0                   0   \n3                                1                 0                   0   \n4                                1                 0                   0   \n\n   notMisleadingFactuallyCorrect  notMisleadingOutdatedButNotWhenWritten  \\\n0                              0                                       0   \n1                              0                                       0   \n2                              0                                       0   \n3                              0                                       0   \n4                              0                                       0   \n\n   notMisleadingClearlySatire  notMisleadingPersonalOpinion  \\\n0                           0                             0   \n1                           1                             1   \n2                           0                             0   \n3                           0                             0   \n4                           0                             0   \n\n   trustworthySources  isMediaNote  \n0                   1            0  \n1                   0            0  \n2                   1            0  \n3                   1            0  \n4                   1            0  ",
      "text/html": "<div>\n<style scoped>\n    .dataframe tbody tr th:only-of-type {\n        vertical-align: middle;\n    }\n\n    .dataframe tbody tr th {\n        vertical-align: top;\n    }\n\n    .dataframe thead th {\n        text-align: right;\n    }\n</style>\n<table border=\"1\" class=\"dataframe\">\n  <thead>\n    <tr style=\"text-align: right;\">\n      <th></th>\n      <th>noteId</th>\n      <th>noteAuthorParticipantId</th>\n      <th>createdAtMillis</th>\n      <th>tweetId</th>\n      <th>classification</th>\n      <th>misleadingOther</th>\n      <th>misleadingFactualError</th>\n      <th>misleadingManipulatedMedia</th>\n      <th>misleadingOutdatedInformation</th>\n      <th>misleadingMissingImportantContext</th>\n      <th>misleadingUnverifiedClaimAsFact</th>\n      <th>misleadingSatire</th>\n      <th>notMisleadingOther</th>\n      <th>notMisleadingFactuallyCorrect</th>\n      <th>notMisleadingOutdatedButNotWhenWritten</th>\n      <th>notMisleadingClearlySatire</th>\n      <th>notMisleadingPersonalOpinion</th>\n      <th>trustworthySources</th>\n      <th>isMediaNote</th>\n    </tr>\n  </thead>\n  <tbody>\n    <tr>\n      <th>0</th>\n      <td>1537142913737428992</td>\n      <td>5684B38EB58FD8BE75ABA37F0BE040EC70380B002ADF9D...</td>\n      <td>1655318404027</td>\n      <td>1377030478167937024</td>\n      <td>MISINFORMED_OR_POTENTIALLY_MISLEADING</td>\n      <td>0</td>\n      <td>1</td>\n      <td>0</td>\n      <td>0</td>\n      <td>1</td>\n      <td>1</td>\n      <td>0</td>\n      <td>0</td>\n      <td>0</td>\n      <td>0</td>\n      <td>0</td>\n      <td>0</td>\n      <td>1</td>\n      <td>0</td>\n    </tr>\n    <tr>\n      <th>1</th>\n      <td>1537145358521839617</td>\n      <td>5684B38EB58FD8BE75ABA37F0BE040EC70380B002ADF9D...</td>\n      <td>1655318986910</td>\n      <td>1536848327979016193</td>\n      <td>NOT_MISLEADING</td>\n      <td>0</td>\n      <td>0</td>\n      <td>0</td>\n      <td>0</td>\n      <td>0</td>\n      <td>0</td>\n      <td>0</td>\n      <td>0</td>\n      <td>0</td>\n      <td>0</td>\n      <td>1</td>\n      <td>1</td>\n      <td>0</td>\n      <td>0</td>\n    </tr>\n    <tr>\n      <th>2</th>\n      <td>1537147343715282945</td>\n      <td>5684B38EB58FD8BE75ABA37F0BE040EC70380B002ADF9D...</td>\n      <td>1655319460217</td>\n      <td>1537080831751102467</td>\n      <td>MISINFORMED_OR_POTENTIALLY_MISLEADING</td>\n      <td>0</td>\n      <td>0</td>\n      <td>0</td>\n      <td>0</td>\n      <td>1</td>\n      <td>0</td>\n      <td>0</td>\n      <td>0</td>\n      <td>0</td>\n      <td>0</td>\n      <td>0</td>\n      <td>0</td>\n      <td>1</td>\n      <td>0</td>\n    </tr>\n    <tr>\n      <th>3</th>\n      <td>1537204430730211328</td>\n      <td>5684B38EB58FD8BE75ABA37F0BE040EC70380B002ADF9D...</td>\n      <td>1655333070821</td>\n      <td>1537196168953974784</td>\n      <td>MISINFORMED_OR_POTENTIALLY_MISLEADING</td>\n      <td>0</td>\n      <td>1</td>\n      <td>0</td>\n      <td>1</td>\n      <td>1</td>\n      <td>1</td>\n      <td>0</td>\n      <td>0</td>\n      <td>0</td>\n      <td>0</td>\n      <td>0</td>\n      <td>0</td>\n      <td>1</td>\n      <td>0</td>\n    </tr>\n    <tr>\n      <th>4</th>\n      <td>1540422295029551104</td>\n      <td>5684B38EB58FD8BE75ABA37F0BE040EC70380B002ADF9D...</td>\n      <td>1656100269455</td>\n      <td>1540087463099736065</td>\n      <td>MISINFORMED_OR_POTENTIALLY_MISLEADING</td>\n      <td>0</td>\n      <td>1</td>\n      <td>0</td>\n      <td>0</td>\n      <td>1</td>\n      <td>1</td>\n      <td>0</td>\n      <td>0</td>\n      <td>0</td>\n      <td>0</td>\n      <td>0</td>\n      <td>0</td>\n      <td>1</td>\n      <td>0</td>\n    </tr>\n  </tbody>\n</table>\n</div>"
     },
     "execution_count": 14,
     "metadata": {},
     "output_type": "execute_result"
    }
   ],
   "source": [
    "drop_notes= ['believable', 'harmful', 'validationDifficulty', 'summary']\n",
    "notes = notes_raw.drop(drop_notes, axis = 1)\n",
    "notes.head()\n"
   ],
   "metadata": {
    "collapsed": false,
    "ExecuteTime": {
     "end_time": "2024-04-10T20:16:54.481649Z",
     "start_time": "2024-04-10T20:16:54.435648Z"
    }
   },
   "id": "4716a1af9ae711f0",
   "execution_count": 14
  },
  {
   "cell_type": "markdown",
   "source": [
    "## Joining / Final Edits"
   ],
   "metadata": {
    "collapsed": false
   },
   "id": "f7f385643f42387f"
  },
  {
   "cell_type": "code",
   "outputs": [],
   "source": [
    "pre_df = data.merge(notes, how='left', on = \"noteId\")\n",
    "df = pre_df.merge(user, how='left', left_on='raterParticipantId', right_on='participantId')"
   ],
   "metadata": {
    "collapsed": false,
    "ExecuteTime": {
     "end_time": "2024-04-10T20:16:54.895649Z",
     "start_time": "2024-04-10T20:16:54.482649Z"
    }
   },
   "id": "a6e2b85df2042c01",
   "execution_count": 15
  },
  {
   "cell_type": "code",
   "outputs": [
    {
     "data": {
      "text/plain": "noteId                                        0\nraterParticipantId                            0\ncreatedAtMillis_x                             0\nversion                                       0\nagree                                         0\ndisagree                                      0\nhelpfulnessLevel                            263\nhelpfulOther                                  0\nhelpfulClear                                  0\nhelpfulGoodSources                            0\nhelpfulAddressesClaim                         0\nhelpfulImportantContext                       0\nhelpfulUnbiasedLanguage                       0\nnotHelpfulOther                               0\nnotHelpfulIncorrect                           0\nnotHelpfulSourcesMissingOrUnreliable          0\nnotHelpfulMissingKeyPoints                    0\nnotHelpfulHardToUnderstand                    0\nnotHelpfulArgumentativeOrBiased               0\nnotHelpfulSpamHarassmentOrAbuse               0\nnotHelpfulIrrelevantSources                   0\nnotHelpfulOpinionSpeculation                  0\nnotHelpfulNoteNotNeeded                       0\nratedOnTweetId                                0\nnoteAuthorParticipantId                   11940\ncreatedAtMillis_y                         11940\ntweetId                                   11940\nclassification                            11940\nmisleadingOther                           11940\nmisleadingFactualError                    11940\nmisleadingManipulatedMedia                11940\nmisleadingOutdatedInformation             11940\nmisleadingMissingImportantContext         11940\nmisleadingUnverifiedClaimAsFact           11940\nmisleadingSatire                          11940\nnotMisleadingOther                        11940\nnotMisleadingFactuallyCorrect             11940\nnotMisleadingOutdatedButNotWhenWritten    11940\nnotMisleadingClearlySatire                11940\nnotMisleadingPersonalOpinion              11940\ntrustworthySources                        11940\nisMediaNote                               11940\ndtype: int64"
     },
     "execution_count": 16,
     "metadata": {},
     "output_type": "execute_result"
    }
   ],
   "source": [
    "pre_df.isna().sum()"
   ],
   "metadata": {
    "collapsed": false,
    "ExecuteTime": {
     "end_time": "2024-04-10T20:16:55.005649Z",
     "start_time": "2024-04-10T20:16:54.901649Z"
    }
   },
   "id": "d6a6b410ab73b022",
   "execution_count": 16
  },
  {
   "cell_type": "code",
   "outputs": [
    {
     "data": {
      "text/plain": "noteId                                        0\nraterParticipantId                            0\ncreatedAtMillis_x                             0\nversion                                       0\nagree                                         0\ndisagree                                      0\nhelpfulnessLevel                            263\nhelpfulOther                                  0\nhelpfulClear                                  0\nhelpfulGoodSources                            0\nhelpfulAddressesClaim                         0\nhelpfulImportantContext                       0\nhelpfulUnbiasedLanguage                       0\nnotHelpfulOther                               0\nnotHelpfulIncorrect                           0\nnotHelpfulSourcesMissingOrUnreliable          0\nnotHelpfulMissingKeyPoints                    0\nnotHelpfulHardToUnderstand                    0\nnotHelpfulArgumentativeOrBiased               0\nnotHelpfulSpamHarassmentOrAbuse               0\nnotHelpfulIrrelevantSources                   0\nnotHelpfulOpinionSpeculation                  0\nnotHelpfulNoteNotNeeded                       0\nratedOnTweetId                                0\nnoteAuthorParticipantId                   11940\ncreatedAtMillis_y                         11940\ntweetId                                   11940\nclassification                            11940\nmisleadingOther                           11940\nmisleadingFactualError                    11940\nmisleadingManipulatedMedia                11940\nmisleadingOutdatedInformation             11940\nmisleadingMissingImportantContext         11940\nmisleadingUnverifiedClaimAsFact           11940\nmisleadingSatire                          11940\nnotMisleadingOther                        11940\nnotMisleadingFactuallyCorrect             11940\nnotMisleadingOutdatedButNotWhenWritten    11940\nnotMisleadingClearlySatire                11940\nnotMisleadingPersonalOpinion              11940\ntrustworthySources                        11940\nisMediaNote                               11940\nparticipantId                                 0\nenrollmentState                               0\nsuccessfulRatingNeededToEarnIn                0\ntimestampOfLastStateChange                    0\ntimestampOfLastEarnOut                        0\nmodelingPopulation                            0\nmodelingGroup                                 0\nnumberOfTimesEarnedOut                        0\ndtype: int64"
     },
     "execution_count": 17,
     "metadata": {},
     "output_type": "execute_result"
    }
   ],
   "source": [
    "df.isna().sum()"
   ],
   "metadata": {
    "collapsed": false,
    "ExecuteTime": {
     "end_time": "2024-04-10T20:16:55.164653Z",
     "start_time": "2024-04-10T20:16:55.006649Z"
    }
   },
   "id": "df7ef461a665e1c",
   "execution_count": 17
  },
  {
   "cell_type": "markdown",
   "source": [
    "**Remove empty values** "
   ],
   "metadata": {
    "collapsed": false
   },
   "id": "6122ef900e8c5f6"
  },
  {
   "cell_type": "code",
   "outputs": [],
   "source": [
    "df.dropna(inplace = True)"
   ],
   "metadata": {
    "collapsed": false,
    "ExecuteTime": {
     "end_time": "2024-04-10T20:16:55.401873Z",
     "start_time": "2024-04-10T20:16:55.165649Z"
    }
   },
   "id": "e95126f0aed1a54d",
   "execution_count": 18
  },
  {
   "cell_type": "code",
   "outputs": [
    {
     "data": {
      "text/plain": "(220979, 50)"
     },
     "execution_count": 19,
     "metadata": {},
     "output_type": "execute_result"
    }
   ],
   "source": [
    "df.shape"
   ],
   "metadata": {
    "collapsed": false,
    "ExecuteTime": {
     "end_time": "2024-04-10T20:16:55.416893Z",
     "start_time": "2024-04-10T20:16:55.402887Z"
    }
   },
   "id": "248373bcc7c9ed61",
   "execution_count": 19
  },
  {
   "cell_type": "markdown",
   "source": [
    "## Write to File"
   ],
   "metadata": {},
   "id": "184cd965"
  },
  {
   "cell_type": "code",
   "execution_count": 20,
   "id": "c79136bb",
   "metadata": {
    "ExecuteTime": {
     "end_time": "2024-04-10T20:16:58.141288Z",
     "start_time": "2024-04-10T20:16:55.417888Z"
    }
   },
   "outputs": [],
   "source": [
    "df.to_csv('ratings_clean_small.csv', index = False)"
   ]
  }
 ],
 "metadata": {
  "kernelspec": {
   "display_name": "Python 3 (ipykernel)",
   "language": "python",
   "name": "python3"
  },
  "language_info": {
   "codemirror_mode": {
    "name": "ipython",
    "version": 3
   },
   "file_extension": ".py",
   "mimetype": "text/x-python",
   "name": "python",
   "nbconvert_exporter": "python",
   "pygments_lexer": "ipython3",
   "version": "3.10.9"
  }
 },
 "nbformat": 4,
 "nbformat_minor": 5
}
