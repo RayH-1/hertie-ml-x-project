{
 "cells": [
  {
   "cell_type": "markdown",
   "id": "e8600bb9",
   "metadata": {},
   "source": [
    "# Setup"
   ]
  },
  {
   "cell_type": "code",
   "execution_count": 1,
   "id": "aab05eec",
   "metadata": {
    "ExecuteTime": {
     "end_time": "2024-05-20T17:24:00.755170Z",
     "start_time": "2024-05-20T17:23:59.697063Z"
    }
   },
   "outputs": [],
   "source": [
    "import pandas as pd"
   ]
  },
  {
   "cell_type": "markdown",
   "id": "a79369ff",
   "metadata": {},
   "source": [
    "## To drop:\n",
    "\n",
    "**Notes**\n",
    "believable,\n",
    "harmful,\n",
    "validationDifficulty,\n",
    "summary\n",
    "\n",
    "**Ratings**\n",
    "helpful\n",
    "notHelpful\n",
    "helpfulEmpathetic\n",
    "helpfulInformative\n",
    "helpfulUniqueContext\t\n",
    "NotHelpfulOpinionSpeculationOrBias\n",
    "notHelpfulOutdated\n",
    "notHelpfulOffTopic\n",
    "\n",
    "**User Enrollment**\n",
    "Has no deprecated columns.\n",
    "\n",
    "**Any null values AFTER random assignment.**"
   ]
  },
  {
   "cell_type": "code",
   "execution_count": 2,
   "id": "0f858e6b",
   "metadata": {
    "ExecuteTime": {
     "end_time": "2024-05-20T17:24:00.770408Z",
     "start_time": "2024-05-20T17:24:00.757148Z"
    }
   },
   "outputs": [],
   "source": [
    "file_path = r\"~\\Documents\\Hertie School\\22_Machine-Learning\\hertie-ml-x-project\\1_Raw_Data\\ratings.tsv\"\n",
    "notes_fp = r\"~\\Documents\\Hertie School\\22_Machine-Learning\\hertie-ml-x-project\\1_Raw_Data\\notes.tsv\"\n",
    "ue_fp = r\"~\\Documents\\Hertie School\\22_Machine-Learning\\hertie-ml-x-project\\1_Raw_Data\\userEnrollment.tsv\""
   ]
  },
  {
   "cell_type": "markdown",
   "id": "6a12fe24",
   "metadata": {},
   "source": [
    "**Open the Ratings file**"
   ]
  },
  {
   "cell_type": "code",
   "execution_count": 3,
   "id": "025124b7",
   "metadata": {
    "ExecuteTime": {
     "end_time": "2024-05-20T17:24:19.574131Z",
     "start_time": "2024-05-20T17:24:00.771358Z"
    }
   },
   "outputs": [],
   "source": [
    "raw = pd.read_csv(file_path, delimiter = '\\t')"
   ]
  },
  {
   "cell_type": "code",
   "execution_count": 4,
   "id": "a18bf2e8",
   "metadata": {
    "ExecuteTime": {
     "end_time": "2024-05-20T17:24:19.650375Z",
     "start_time": "2024-05-20T17:24:19.581111Z"
    }
   },
   "outputs": [
    {
     "data": {
      "text/html": [
       "<div>\n",
       "<style scoped>\n",
       "    .dataframe tbody tr th:only-of-type {\n",
       "        vertical-align: middle;\n",
       "    }\n",
       "\n",
       "    .dataframe tbody tr th {\n",
       "        vertical-align: top;\n",
       "    }\n",
       "\n",
       "    .dataframe thead th {\n",
       "        text-align: right;\n",
       "    }\n",
       "</style>\n",
       "<table border=\"1\" class=\"dataframe\">\n",
       "  <thead>\n",
       "    <tr style=\"text-align: right;\">\n",
       "      <th></th>\n",
       "      <th>noteId</th>\n",
       "      <th>raterParticipantId</th>\n",
       "      <th>createdAtMillis</th>\n",
       "      <th>version</th>\n",
       "      <th>agree</th>\n",
       "      <th>disagree</th>\n",
       "      <th>helpful</th>\n",
       "      <th>notHelpful</th>\n",
       "      <th>helpfulnessLevel</th>\n",
       "      <th>helpfulOther</th>\n",
       "      <th>...</th>\n",
       "      <th>notHelpfulMissingKeyPoints</th>\n",
       "      <th>notHelpfulOutdated</th>\n",
       "      <th>notHelpfulHardToUnderstand</th>\n",
       "      <th>notHelpfulArgumentativeOrBiased</th>\n",
       "      <th>notHelpfulOffTopic</th>\n",
       "      <th>notHelpfulSpamHarassmentOrAbuse</th>\n",
       "      <th>notHelpfulIrrelevantSources</th>\n",
       "      <th>notHelpfulOpinionSpeculation</th>\n",
       "      <th>notHelpfulNoteNotNeeded</th>\n",
       "      <th>ratedOnTweetId</th>\n",
       "    </tr>\n",
       "  </thead>\n",
       "  <tbody>\n",
       "    <tr>\n",
       "      <th>0</th>\n",
       "      <td>1743245493138862440</td>\n",
       "      <td>B2D8708DD64F4A263D237C309DDFC40F96962E5B6CF8E2...</td>\n",
       "      <td>1704743786947</td>\n",
       "      <td>2</td>\n",
       "      <td>0</td>\n",
       "      <td>0</td>\n",
       "      <td>0</td>\n",
       "      <td>0</td>\n",
       "      <td>HELPFUL</td>\n",
       "      <td>0</td>\n",
       "      <td>...</td>\n",
       "      <td>0</td>\n",
       "      <td>0</td>\n",
       "      <td>0</td>\n",
       "      <td>0</td>\n",
       "      <td>0</td>\n",
       "      <td>0</td>\n",
       "      <td>0</td>\n",
       "      <td>0</td>\n",
       "      <td>0</td>\n",
       "      <td>1742976476432196100</td>\n",
       "    </tr>\n",
       "    <tr>\n",
       "      <th>1</th>\n",
       "      <td>1746259110167777732</td>\n",
       "      <td>B2D8708DD64F4A263D237C309DDFC40F96962E5B6CF8E2...</td>\n",
       "      <td>1705251123061</td>\n",
       "      <td>2</td>\n",
       "      <td>0</td>\n",
       "      <td>0</td>\n",
       "      <td>0</td>\n",
       "      <td>0</td>\n",
       "      <td>HELPFUL</td>\n",
       "      <td>0</td>\n",
       "      <td>...</td>\n",
       "      <td>0</td>\n",
       "      <td>0</td>\n",
       "      <td>0</td>\n",
       "      <td>0</td>\n",
       "      <td>0</td>\n",
       "      <td>0</td>\n",
       "      <td>0</td>\n",
       "      <td>0</td>\n",
       "      <td>0</td>\n",
       "      <td>1746211750507417736</td>\n",
       "    </tr>\n",
       "    <tr>\n",
       "      <th>2</th>\n",
       "      <td>1748100277331271705</td>\n",
       "      <td>B2D8708DD64F4A263D237C309DDFC40F96962E5B6CF8E2...</td>\n",
       "      <td>1706638688163</td>\n",
       "      <td>2</td>\n",
       "      <td>0</td>\n",
       "      <td>0</td>\n",
       "      <td>0</td>\n",
       "      <td>0</td>\n",
       "      <td>HELPFUL</td>\n",
       "      <td>0</td>\n",
       "      <td>...</td>\n",
       "      <td>0</td>\n",
       "      <td>0</td>\n",
       "      <td>0</td>\n",
       "      <td>0</td>\n",
       "      <td>0</td>\n",
       "      <td>0</td>\n",
       "      <td>0</td>\n",
       "      <td>0</td>\n",
       "      <td>0</td>\n",
       "      <td>1748050105327063491</td>\n",
       "    </tr>\n",
       "    <tr>\n",
       "      <th>3</th>\n",
       "      <td>1749931359206871054</td>\n",
       "      <td>B2D8708DD64F4A263D237C309DDFC40F96962E5B6CF8E2...</td>\n",
       "      <td>1707621015370</td>\n",
       "      <td>2</td>\n",
       "      <td>0</td>\n",
       "      <td>0</td>\n",
       "      <td>0</td>\n",
       "      <td>0</td>\n",
       "      <td>HELPFUL</td>\n",
       "      <td>0</td>\n",
       "      <td>...</td>\n",
       "      <td>0</td>\n",
       "      <td>0</td>\n",
       "      <td>0</td>\n",
       "      <td>0</td>\n",
       "      <td>0</td>\n",
       "      <td>0</td>\n",
       "      <td>0</td>\n",
       "      <td>0</td>\n",
       "      <td>0</td>\n",
       "      <td>1749839770224566328</td>\n",
       "    </tr>\n",
       "    <tr>\n",
       "      <th>4</th>\n",
       "      <td>1755964879553327466</td>\n",
       "      <td>B2D8708DD64F4A263D237C309DDFC40F96962E5B6CF8E2...</td>\n",
       "      <td>1707509443077</td>\n",
       "      <td>2</td>\n",
       "      <td>0</td>\n",
       "      <td>0</td>\n",
       "      <td>0</td>\n",
       "      <td>0</td>\n",
       "      <td>SOMEWHAT_HELPFUL</td>\n",
       "      <td>0</td>\n",
       "      <td>...</td>\n",
       "      <td>0</td>\n",
       "      <td>0</td>\n",
       "      <td>0</td>\n",
       "      <td>0</td>\n",
       "      <td>0</td>\n",
       "      <td>0</td>\n",
       "      <td>0</td>\n",
       "      <td>0</td>\n",
       "      <td>0</td>\n",
       "      <td>1755959073189617680</td>\n",
       "    </tr>\n",
       "  </tbody>\n",
       "</table>\n",
       "<p>5 rows × 32 columns</p>\n",
       "</div>"
      ],
      "text/plain": [
       "                noteId                                 raterParticipantId  \\\n",
       "0  1743245493138862440  B2D8708DD64F4A263D237C309DDFC40F96962E5B6CF8E2...   \n",
       "1  1746259110167777732  B2D8708DD64F4A263D237C309DDFC40F96962E5B6CF8E2...   \n",
       "2  1748100277331271705  B2D8708DD64F4A263D237C309DDFC40F96962E5B6CF8E2...   \n",
       "3  1749931359206871054  B2D8708DD64F4A263D237C309DDFC40F96962E5B6CF8E2...   \n",
       "4  1755964879553327466  B2D8708DD64F4A263D237C309DDFC40F96962E5B6CF8E2...   \n",
       "\n",
       "   createdAtMillis  version  agree  disagree  helpful  notHelpful  \\\n",
       "0    1704743786947        2      0         0        0           0   \n",
       "1    1705251123061        2      0         0        0           0   \n",
       "2    1706638688163        2      0         0        0           0   \n",
       "3    1707621015370        2      0         0        0           0   \n",
       "4    1707509443077        2      0         0        0           0   \n",
       "\n",
       "   helpfulnessLevel  helpfulOther  ...  notHelpfulMissingKeyPoints  \\\n",
       "0           HELPFUL             0  ...                           0   \n",
       "1           HELPFUL             0  ...                           0   \n",
       "2           HELPFUL             0  ...                           0   \n",
       "3           HELPFUL             0  ...                           0   \n",
       "4  SOMEWHAT_HELPFUL             0  ...                           0   \n",
       "\n",
       "   notHelpfulOutdated  notHelpfulHardToUnderstand  \\\n",
       "0                   0                           0   \n",
       "1                   0                           0   \n",
       "2                   0                           0   \n",
       "3                   0                           0   \n",
       "4                   0                           0   \n",
       "\n",
       "   notHelpfulArgumentativeOrBiased  notHelpfulOffTopic  \\\n",
       "0                                0                   0   \n",
       "1                                0                   0   \n",
       "2                                0                   0   \n",
       "3                                0                   0   \n",
       "4                                0                   0   \n",
       "\n",
       "   notHelpfulSpamHarassmentOrAbuse  notHelpfulIrrelevantSources  \\\n",
       "0                                0                            0   \n",
       "1                                0                            0   \n",
       "2                                0                            0   \n",
       "3                                0                            0   \n",
       "4                                0                            0   \n",
       "\n",
       "   notHelpfulOpinionSpeculation  notHelpfulNoteNotNeeded       ratedOnTweetId  \n",
       "0                             0                        0  1742976476432196100  \n",
       "1                             0                        0  1746211750507417736  \n",
       "2                             0                        0  1748050105327063491  \n",
       "3                             0                        0  1749839770224566328  \n",
       "4                             0                        0  1755959073189617680  \n",
       "\n",
       "[5 rows x 32 columns]"
      ]
     },
     "execution_count": 4,
     "metadata": {},
     "output_type": "execute_result"
    }
   ],
   "source": [
    "raw.head()"
   ]
  },
  {
   "cell_type": "code",
   "execution_count": 5,
   "id": "e50b2d04160aacda",
   "metadata": {
    "ExecuteTime": {
     "end_time": "2024-05-20T17:24:24.533788Z",
     "start_time": "2024-05-20T17:24:19.653112Z"
    },
    "collapsed": false,
    "jupyter": {
     "outputs_hidden": false
    }
   },
   "outputs": [
    {
     "name": "stdout",
     "output_type": "stream",
     "text": [
      "noteId                                  [1743245493138862440, 1746259110167777732, 174...\n",
      "raterParticipantId                      [B2D8708DD64F4A263D237C309DDFC40F96962E5B6CF8E...\n",
      "createdAtMillis                         [1704743786947, 1705251123061, 1706638688163, ...\n",
      "version                                                                            [2, 1]\n",
      "agree                                                                              [0, 1]\n",
      "disagree                                                                           [0, 1]\n",
      "helpful                                                                            [0, 1]\n",
      "notHelpful                                                                         [0, 1]\n",
      "helpfulnessLevel                            [HELPFUL, SOMEWHAT_HELPFUL, NOT_HELPFUL, nan]\n",
      "helpfulOther                                                                       [0, 1]\n",
      "helpfulInformative                                                                 [0, 1]\n",
      "helpfulClear                                                                       [1, 0]\n",
      "helpfulEmpathetic                                                                  [0, 1]\n",
      "helpfulGoodSources                                                                 [0, 1]\n",
      "helpfulUniqueContext                                                               [0, 1]\n",
      "helpfulAddressesClaim                                                              [0, 1]\n",
      "helpfulImportantContext                                                            [1, 0]\n",
      "helpfulUnbiasedLanguage                                                            [0, 1]\n",
      "notHelpfulOther                                                                    [0, 1]\n",
      "notHelpfulIncorrect                                                                [0, 1]\n",
      "notHelpfulSourcesMissingOrUnreliable                                               [0, 1]\n",
      "notHelpfulOpinionSpeculationOrBias                                                 [0, 1]\n",
      "notHelpfulMissingKeyPoints                                                         [0, 1]\n",
      "notHelpfulOutdated                                                                 [0, 1]\n",
      "notHelpfulHardToUnderstand                                                         [0, 1]\n",
      "notHelpfulArgumentativeOrBiased                                                    [0, 1]\n",
      "notHelpfulOffTopic                                                                 [0, 1]\n",
      "notHelpfulSpamHarassmentOrAbuse                                                    [0, 1]\n",
      "notHelpfulIrrelevantSources                                                        [0, 1]\n",
      "notHelpfulOpinionSpeculation                                                       [0, 1]\n",
      "notHelpfulNoteNotNeeded                                                            [0, 1]\n",
      "ratedOnTweetId                          [1742976476432196100, 1746211750507417736, 174...\n",
      "dtype: object\n"
     ]
    }
   ],
   "source": [
    "# Get the counts of unique values for all columns\n",
    "unique_counts_all_columns = raw.apply(lambda x: x.unique())\n",
    "\n",
    "# Display the result\n",
    "print(unique_counts_all_columns)"
   ]
  },
  {
   "cell_type": "code",
   "execution_count": 6,
   "id": "5649b5df",
   "metadata": {
    "ExecuteTime": {
     "end_time": "2024-05-20T17:24:24.977755Z",
     "start_time": "2024-05-20T17:24:24.534756Z"
    }
   },
   "outputs": [],
   "source": [
    "random_raw = raw.sample(frac=0.02469, random_state = 69420)"
   ]
  },
  {
   "cell_type": "code",
   "execution_count": 7,
   "id": "c4678818",
   "metadata": {
    "ExecuteTime": {
     "end_time": "2024-05-20T17:24:24.993756Z",
     "start_time": "2024-05-20T17:24:24.978756Z"
    }
   },
   "outputs": [
    {
     "data": {
      "text/html": [
       "<div>\n",
       "<style scoped>\n",
       "    .dataframe tbody tr th:only-of-type {\n",
       "        vertical-align: middle;\n",
       "    }\n",
       "\n",
       "    .dataframe tbody tr th {\n",
       "        vertical-align: top;\n",
       "    }\n",
       "\n",
       "    .dataframe thead th {\n",
       "        text-align: right;\n",
       "    }\n",
       "</style>\n",
       "<table border=\"1\" class=\"dataframe\">\n",
       "  <thead>\n",
       "    <tr style=\"text-align: right;\">\n",
       "      <th></th>\n",
       "      <th>noteId</th>\n",
       "      <th>raterParticipantId</th>\n",
       "      <th>createdAtMillis</th>\n",
       "      <th>version</th>\n",
       "      <th>agree</th>\n",
       "      <th>disagree</th>\n",
       "      <th>helpful</th>\n",
       "      <th>notHelpful</th>\n",
       "      <th>helpfulnessLevel</th>\n",
       "      <th>helpfulOther</th>\n",
       "      <th>...</th>\n",
       "      <th>notHelpfulMissingKeyPoints</th>\n",
       "      <th>notHelpfulOutdated</th>\n",
       "      <th>notHelpfulHardToUnderstand</th>\n",
       "      <th>notHelpfulArgumentativeOrBiased</th>\n",
       "      <th>notHelpfulOffTopic</th>\n",
       "      <th>notHelpfulSpamHarassmentOrAbuse</th>\n",
       "      <th>notHelpfulIrrelevantSources</th>\n",
       "      <th>notHelpfulOpinionSpeculation</th>\n",
       "      <th>notHelpfulNoteNotNeeded</th>\n",
       "      <th>ratedOnTweetId</th>\n",
       "    </tr>\n",
       "  </thead>\n",
       "  <tbody>\n",
       "    <tr>\n",
       "      <th>9364138</th>\n",
       "      <td>1761266554724131298</td>\n",
       "      <td>49D3EC9394CFA8D34858BA3B634DF8B13A29DF22F56E38...</td>\n",
       "      <td>1708756408185</td>\n",
       "      <td>2</td>\n",
       "      <td>0</td>\n",
       "      <td>0</td>\n",
       "      <td>0</td>\n",
       "      <td>0</td>\n",
       "      <td>HELPFUL</td>\n",
       "      <td>0</td>\n",
       "      <td>...</td>\n",
       "      <td>0</td>\n",
       "      <td>0</td>\n",
       "      <td>0</td>\n",
       "      <td>0</td>\n",
       "      <td>0</td>\n",
       "      <td>0</td>\n",
       "      <td>0</td>\n",
       "      <td>0</td>\n",
       "      <td>0</td>\n",
       "      <td>1761005209612890563</td>\n",
       "    </tr>\n",
       "    <tr>\n",
       "      <th>3732057</th>\n",
       "      <td>1749115176345821522</td>\n",
       "      <td>FBFC3E6094D2E063FC95321B0284CDF9EDCCE347E8DC9E...</td>\n",
       "      <td>1705867550251</td>\n",
       "      <td>2</td>\n",
       "      <td>0</td>\n",
       "      <td>0</td>\n",
       "      <td>0</td>\n",
       "      <td>0</td>\n",
       "      <td>NOT_HELPFUL</td>\n",
       "      <td>0</td>\n",
       "      <td>...</td>\n",
       "      <td>0</td>\n",
       "      <td>0</td>\n",
       "      <td>0</td>\n",
       "      <td>0</td>\n",
       "      <td>0</td>\n",
       "      <td>0</td>\n",
       "      <td>0</td>\n",
       "      <td>0</td>\n",
       "      <td>1</td>\n",
       "      <td>1749047519265632440</td>\n",
       "    </tr>\n",
       "    <tr>\n",
       "      <th>44916</th>\n",
       "      <td>1657432813514240007</td>\n",
       "      <td>E9EE0EBEACD030DD0EB9F05ADFE1911B8436D0F8E326D1...</td>\n",
       "      <td>1684022553110</td>\n",
       "      <td>2</td>\n",
       "      <td>0</td>\n",
       "      <td>0</td>\n",
       "      <td>0</td>\n",
       "      <td>0</td>\n",
       "      <td>HELPFUL</td>\n",
       "      <td>0</td>\n",
       "      <td>...</td>\n",
       "      <td>0</td>\n",
       "      <td>0</td>\n",
       "      <td>0</td>\n",
       "      <td>0</td>\n",
       "      <td>0</td>\n",
       "      <td>0</td>\n",
       "      <td>0</td>\n",
       "      <td>0</td>\n",
       "      <td>0</td>\n",
       "      <td>-1</td>\n",
       "    </tr>\n",
       "    <tr>\n",
       "      <th>9028062</th>\n",
       "      <td>1736556082275778776</td>\n",
       "      <td>348A77843E3CF15D4168233C9BA8DF97DFF472897A3797...</td>\n",
       "      <td>1702922758645</td>\n",
       "      <td>2</td>\n",
       "      <td>0</td>\n",
       "      <td>0</td>\n",
       "      <td>0</td>\n",
       "      <td>0</td>\n",
       "      <td>HELPFUL</td>\n",
       "      <td>0</td>\n",
       "      <td>...</td>\n",
       "      <td>0</td>\n",
       "      <td>0</td>\n",
       "      <td>0</td>\n",
       "      <td>0</td>\n",
       "      <td>0</td>\n",
       "      <td>0</td>\n",
       "      <td>0</td>\n",
       "      <td>0</td>\n",
       "      <td>0</td>\n",
       "      <td>1736432316514242971</td>\n",
       "    </tr>\n",
       "    <tr>\n",
       "      <th>154481</th>\n",
       "      <td>1695023741590233289</td>\n",
       "      <td>88733EA1B79B5367B033493F21033C00EC180D554D3D6B...</td>\n",
       "      <td>1693030322913</td>\n",
       "      <td>2</td>\n",
       "      <td>0</td>\n",
       "      <td>0</td>\n",
       "      <td>0</td>\n",
       "      <td>0</td>\n",
       "      <td>NOT_HELPFUL</td>\n",
       "      <td>0</td>\n",
       "      <td>...</td>\n",
       "      <td>1</td>\n",
       "      <td>0</td>\n",
       "      <td>0</td>\n",
       "      <td>0</td>\n",
       "      <td>0</td>\n",
       "      <td>0</td>\n",
       "      <td>0</td>\n",
       "      <td>0</td>\n",
       "      <td>0</td>\n",
       "      <td>1695013353230664068</td>\n",
       "    </tr>\n",
       "  </tbody>\n",
       "</table>\n",
       "<p>5 rows × 32 columns</p>\n",
       "</div>"
      ],
      "text/plain": [
       "                      noteId  \\\n",
       "9364138  1761266554724131298   \n",
       "3732057  1749115176345821522   \n",
       "44916    1657432813514240007   \n",
       "9028062  1736556082275778776   \n",
       "154481   1695023741590233289   \n",
       "\n",
       "                                        raterParticipantId  createdAtMillis  \\\n",
       "9364138  49D3EC9394CFA8D34858BA3B634DF8B13A29DF22F56E38...    1708756408185   \n",
       "3732057  FBFC3E6094D2E063FC95321B0284CDF9EDCCE347E8DC9E...    1705867550251   \n",
       "44916    E9EE0EBEACD030DD0EB9F05ADFE1911B8436D0F8E326D1...    1684022553110   \n",
       "9028062  348A77843E3CF15D4168233C9BA8DF97DFF472897A3797...    1702922758645   \n",
       "154481   88733EA1B79B5367B033493F21033C00EC180D554D3D6B...    1693030322913   \n",
       "\n",
       "         version  agree  disagree  helpful  notHelpful helpfulnessLevel  \\\n",
       "9364138        2      0         0        0           0          HELPFUL   \n",
       "3732057        2      0         0        0           0      NOT_HELPFUL   \n",
       "44916          2      0         0        0           0          HELPFUL   \n",
       "9028062        2      0         0        0           0          HELPFUL   \n",
       "154481         2      0         0        0           0      NOT_HELPFUL   \n",
       "\n",
       "         helpfulOther  ...  notHelpfulMissingKeyPoints  notHelpfulOutdated  \\\n",
       "9364138             0  ...                           0                   0   \n",
       "3732057             0  ...                           0                   0   \n",
       "44916               0  ...                           0                   0   \n",
       "9028062             0  ...                           0                   0   \n",
       "154481              0  ...                           1                   0   \n",
       "\n",
       "         notHelpfulHardToUnderstand  notHelpfulArgumentativeOrBiased  \\\n",
       "9364138                           0                                0   \n",
       "3732057                           0                                0   \n",
       "44916                             0                                0   \n",
       "9028062                           0                                0   \n",
       "154481                            0                                0   \n",
       "\n",
       "         notHelpfulOffTopic  notHelpfulSpamHarassmentOrAbuse  \\\n",
       "9364138                   0                                0   \n",
       "3732057                   0                                0   \n",
       "44916                     0                                0   \n",
       "9028062                   0                                0   \n",
       "154481                    0                                0   \n",
       "\n",
       "         notHelpfulIrrelevantSources  notHelpfulOpinionSpeculation  \\\n",
       "9364138                            0                             0   \n",
       "3732057                            0                             0   \n",
       "44916                              0                             0   \n",
       "9028062                            0                             0   \n",
       "154481                             0                             0   \n",
       "\n",
       "         notHelpfulNoteNotNeeded       ratedOnTweetId  \n",
       "9364138                        0  1761005209612890563  \n",
       "3732057                        1  1749047519265632440  \n",
       "44916                          0                   -1  \n",
       "9028062                        0  1736432316514242971  \n",
       "154481                         0  1695013353230664068  \n",
       "\n",
       "[5 rows x 32 columns]"
      ]
     },
     "execution_count": 7,
     "metadata": {},
     "output_type": "execute_result"
    }
   ],
   "source": [
    "random_raw = pd.DataFrame(random_raw)\n",
    "\n",
    "random_raw.head()"
   ]
  },
  {
   "cell_type": "markdown",
   "id": "c4c4b082d5061dd8",
   "metadata": {
    "collapsed": false,
    "jupyter": {
     "outputs_hidden": false
    }
   },
   "source": [
    "**Open the notes file**"
   ]
  },
  {
   "cell_type": "code",
   "execution_count": 8,
   "id": "3ccb726d86026703",
   "metadata": {
    "ExecuteTime": {
     "end_time": "2024-05-20T17:24:29.496822Z",
     "start_time": "2024-05-20T17:24:24.994757Z"
    },
    "collapsed": false,
    "jupyter": {
     "outputs_hidden": false
    }
   },
   "outputs": [
    {
     "name": "stderr",
     "output_type": "stream",
     "text": [
      "C:\\Users\\rafid\\AppData\\Local\\Temp\\ipykernel_8736\\965115971.py:1: DtypeWarning: Columns (5,6,7) have mixed types. Specify dtype option on import or set low_memory=False.\n",
      "  notes_raw = pd.read_csv(notes_fp, delimiter = '\\t')\n"
     ]
    }
   ],
   "source": [
    "notes_raw = pd.read_csv(notes_fp, delimiter = '\\t')"
   ]
  },
  {
   "cell_type": "code",
   "execution_count": 9,
   "id": "3a4f4efb433317e2",
   "metadata": {
    "ExecuteTime": {
     "end_time": "2024-05-20T17:24:29.511822Z",
     "start_time": "2024-05-20T17:24:29.498823Z"
    },
    "collapsed": false,
    "jupyter": {
     "outputs_hidden": false
    }
   },
   "outputs": [
    {
     "data": {
      "text/html": [
       "<div>\n",
       "<style scoped>\n",
       "    .dataframe tbody tr th:only-of-type {\n",
       "        vertical-align: middle;\n",
       "    }\n",
       "\n",
       "    .dataframe tbody tr th {\n",
       "        vertical-align: top;\n",
       "    }\n",
       "\n",
       "    .dataframe thead th {\n",
       "        text-align: right;\n",
       "    }\n",
       "</style>\n",
       "<table border=\"1\" class=\"dataframe\">\n",
       "  <thead>\n",
       "    <tr style=\"text-align: right;\">\n",
       "      <th></th>\n",
       "      <th>noteId</th>\n",
       "      <th>noteAuthorParticipantId</th>\n",
       "      <th>createdAtMillis</th>\n",
       "      <th>tweetId</th>\n",
       "      <th>classification</th>\n",
       "      <th>believable</th>\n",
       "      <th>harmful</th>\n",
       "      <th>validationDifficulty</th>\n",
       "      <th>misleadingOther</th>\n",
       "      <th>misleadingFactualError</th>\n",
       "      <th>...</th>\n",
       "      <th>misleadingUnverifiedClaimAsFact</th>\n",
       "      <th>misleadingSatire</th>\n",
       "      <th>notMisleadingOther</th>\n",
       "      <th>notMisleadingFactuallyCorrect</th>\n",
       "      <th>notMisleadingOutdatedButNotWhenWritten</th>\n",
       "      <th>notMisleadingClearlySatire</th>\n",
       "      <th>notMisleadingPersonalOpinion</th>\n",
       "      <th>trustworthySources</th>\n",
       "      <th>summary</th>\n",
       "      <th>isMediaNote</th>\n",
       "    </tr>\n",
       "  </thead>\n",
       "  <tbody>\n",
       "    <tr>\n",
       "      <th>0</th>\n",
       "      <td>1537142913737428992</td>\n",
       "      <td>5684B38EB58FD8BE75ABA37F0BE040EC70380B002ADF9D...</td>\n",
       "      <td>1655318404027</td>\n",
       "      <td>1377030478167937024</td>\n",
       "      <td>MISINFORMED_OR_POTENTIALLY_MISLEADING</td>\n",
       "      <td>BELIEVABLE_BY_MANY</td>\n",
       "      <td>CONSIDERABLE_HARM</td>\n",
       "      <td>EASY</td>\n",
       "      <td>0</td>\n",
       "      <td>1</td>\n",
       "      <td>...</td>\n",
       "      <td>1</td>\n",
       "      <td>0</td>\n",
       "      <td>0</td>\n",
       "      <td>0</td>\n",
       "      <td>0</td>\n",
       "      <td>0</td>\n",
       "      <td>0</td>\n",
       "      <td>1</td>\n",
       "      <td>Forbes has a good rundown of the investigation...</td>\n",
       "      <td>0</td>\n",
       "    </tr>\n",
       "    <tr>\n",
       "      <th>1</th>\n",
       "      <td>1537145358521839617</td>\n",
       "      <td>5684B38EB58FD8BE75ABA37F0BE040EC70380B002ADF9D...</td>\n",
       "      <td>1655318986910</td>\n",
       "      <td>1536848327979016193</td>\n",
       "      <td>NOT_MISLEADING</td>\n",
       "      <td>NaN</td>\n",
       "      <td>NaN</td>\n",
       "      <td>NaN</td>\n",
       "      <td>0</td>\n",
       "      <td>0</td>\n",
       "      <td>...</td>\n",
       "      <td>0</td>\n",
       "      <td>0</td>\n",
       "      <td>0</td>\n",
       "      <td>0</td>\n",
       "      <td>0</td>\n",
       "      <td>1</td>\n",
       "      <td>1</td>\n",
       "      <td>0</td>\n",
       "      <td>They are expressing a personal opinion in a st...</td>\n",
       "      <td>0</td>\n",
       "    </tr>\n",
       "    <tr>\n",
       "      <th>2</th>\n",
       "      <td>1537147343715282945</td>\n",
       "      <td>5684B38EB58FD8BE75ABA37F0BE040EC70380B002ADF9D...</td>\n",
       "      <td>1655319460217</td>\n",
       "      <td>1537080831751102467</td>\n",
       "      <td>MISINFORMED_OR_POTENTIALLY_MISLEADING</td>\n",
       "      <td>BELIEVABLE_BY_MANY</td>\n",
       "      <td>LITTLE_HARM</td>\n",
       "      <td>EASY</td>\n",
       "      <td>0</td>\n",
       "      <td>0</td>\n",
       "      <td>...</td>\n",
       "      <td>0</td>\n",
       "      <td>0</td>\n",
       "      <td>0</td>\n",
       "      <td>0</td>\n",
       "      <td>0</td>\n",
       "      <td>0</td>\n",
       "      <td>0</td>\n",
       "      <td>1</td>\n",
       "      <td>Teslas purchased after 12/31/19 are not eligib...</td>\n",
       "      <td>0</td>\n",
       "    </tr>\n",
       "    <tr>\n",
       "      <th>3</th>\n",
       "      <td>1537204430730211328</td>\n",
       "      <td>5684B38EB58FD8BE75ABA37F0BE040EC70380B002ADF9D...</td>\n",
       "      <td>1655333070821</td>\n",
       "      <td>1537196168953974784</td>\n",
       "      <td>MISINFORMED_OR_POTENTIALLY_MISLEADING</td>\n",
       "      <td>BELIEVABLE_BY_MANY</td>\n",
       "      <td>CONSIDERABLE_HARM</td>\n",
       "      <td>EASY</td>\n",
       "      <td>0</td>\n",
       "      <td>1</td>\n",
       "      <td>...</td>\n",
       "      <td>1</td>\n",
       "      <td>0</td>\n",
       "      <td>0</td>\n",
       "      <td>0</td>\n",
       "      <td>0</td>\n",
       "      <td>0</td>\n",
       "      <td>0</td>\n",
       "      <td>1</td>\n",
       "      <td>The Jan 6th riots were encouraged by the sitti...</td>\n",
       "      <td>0</td>\n",
       "    </tr>\n",
       "    <tr>\n",
       "      <th>4</th>\n",
       "      <td>1540422295029551104</td>\n",
       "      <td>5684B38EB58FD8BE75ABA37F0BE040EC70380B002ADF9D...</td>\n",
       "      <td>1656100269455</td>\n",
       "      <td>1540087463099736065</td>\n",
       "      <td>MISINFORMED_OR_POTENTIALLY_MISLEADING</td>\n",
       "      <td>BELIEVABLE_BY_MANY</td>\n",
       "      <td>CONSIDERABLE_HARM</td>\n",
       "      <td>EASY</td>\n",
       "      <td>0</td>\n",
       "      <td>1</td>\n",
       "      <td>...</td>\n",
       "      <td>1</td>\n",
       "      <td>0</td>\n",
       "      <td>0</td>\n",
       "      <td>0</td>\n",
       "      <td>0</td>\n",
       "      <td>0</td>\n",
       "      <td>0</td>\n",
       "      <td>1</td>\n",
       "      <td>The Committee has been found by numerous court...</td>\n",
       "      <td>0</td>\n",
       "    </tr>\n",
       "  </tbody>\n",
       "</table>\n",
       "<p>5 rows × 23 columns</p>\n",
       "</div>"
      ],
      "text/plain": [
       "                noteId                            noteAuthorParticipantId  \\\n",
       "0  1537142913737428992  5684B38EB58FD8BE75ABA37F0BE040EC70380B002ADF9D...   \n",
       "1  1537145358521839617  5684B38EB58FD8BE75ABA37F0BE040EC70380B002ADF9D...   \n",
       "2  1537147343715282945  5684B38EB58FD8BE75ABA37F0BE040EC70380B002ADF9D...   \n",
       "3  1537204430730211328  5684B38EB58FD8BE75ABA37F0BE040EC70380B002ADF9D...   \n",
       "4  1540422295029551104  5684B38EB58FD8BE75ABA37F0BE040EC70380B002ADF9D...   \n",
       "\n",
       "   createdAtMillis              tweetId  \\\n",
       "0    1655318404027  1377030478167937024   \n",
       "1    1655318986910  1536848327979016193   \n",
       "2    1655319460217  1537080831751102467   \n",
       "3    1655333070821  1537196168953974784   \n",
       "4    1656100269455  1540087463099736065   \n",
       "\n",
       "                          classification          believable  \\\n",
       "0  MISINFORMED_OR_POTENTIALLY_MISLEADING  BELIEVABLE_BY_MANY   \n",
       "1                         NOT_MISLEADING                 NaN   \n",
       "2  MISINFORMED_OR_POTENTIALLY_MISLEADING  BELIEVABLE_BY_MANY   \n",
       "3  MISINFORMED_OR_POTENTIALLY_MISLEADING  BELIEVABLE_BY_MANY   \n",
       "4  MISINFORMED_OR_POTENTIALLY_MISLEADING  BELIEVABLE_BY_MANY   \n",
       "\n",
       "             harmful validationDifficulty  misleadingOther  \\\n",
       "0  CONSIDERABLE_HARM                 EASY                0   \n",
       "1                NaN                  NaN                0   \n",
       "2        LITTLE_HARM                 EASY                0   \n",
       "3  CONSIDERABLE_HARM                 EASY                0   \n",
       "4  CONSIDERABLE_HARM                 EASY                0   \n",
       "\n",
       "   misleadingFactualError  ...  misleadingUnverifiedClaimAsFact  \\\n",
       "0                       1  ...                                1   \n",
       "1                       0  ...                                0   \n",
       "2                       0  ...                                0   \n",
       "3                       1  ...                                1   \n",
       "4                       1  ...                                1   \n",
       "\n",
       "   misleadingSatire  notMisleadingOther  notMisleadingFactuallyCorrect  \\\n",
       "0                 0                   0                              0   \n",
       "1                 0                   0                              0   \n",
       "2                 0                   0                              0   \n",
       "3                 0                   0                              0   \n",
       "4                 0                   0                              0   \n",
       "\n",
       "   notMisleadingOutdatedButNotWhenWritten  notMisleadingClearlySatire  \\\n",
       "0                                       0                           0   \n",
       "1                                       0                           1   \n",
       "2                                       0                           0   \n",
       "3                                       0                           0   \n",
       "4                                       0                           0   \n",
       "\n",
       "   notMisleadingPersonalOpinion  trustworthySources  \\\n",
       "0                             0                   1   \n",
       "1                             1                   0   \n",
       "2                             0                   1   \n",
       "3                             0                   1   \n",
       "4                             0                   1   \n",
       "\n",
       "                                             summary  isMediaNote  \n",
       "0  Forbes has a good rundown of the investigation...            0  \n",
       "1  They are expressing a personal opinion in a st...            0  \n",
       "2  Teslas purchased after 12/31/19 are not eligib...            0  \n",
       "3  The Jan 6th riots were encouraged by the sitti...            0  \n",
       "4  The Committee has been found by numerous court...            0  \n",
       "\n",
       "[5 rows x 23 columns]"
      ]
     },
     "execution_count": 9,
     "metadata": {},
     "output_type": "execute_result"
    }
   ],
   "source": [
    "notes_raw.head()"
   ]
  },
  {
   "cell_type": "markdown",
   "id": "4f45b36d8a6bd5b7",
   "metadata": {
    "collapsed": false,
    "jupyter": {
     "outputs_hidden": false
    }
   },
   "source": [
    "**Open the userEnrollment file**"
   ]
  },
  {
   "cell_type": "code",
   "execution_count": 10,
   "id": "ee4111d5de1609fd",
   "metadata": {
    "ExecuteTime": {
     "end_time": "2024-05-20T17:24:30.239821Z",
     "start_time": "2024-05-20T17:24:29.512822Z"
    },
    "collapsed": false,
    "jupyter": {
     "outputs_hidden": false
    }
   },
   "outputs": [
    {
     "data": {
      "text/html": [
       "<div>\n",
       "<style scoped>\n",
       "    .dataframe tbody tr th:only-of-type {\n",
       "        vertical-align: middle;\n",
       "    }\n",
       "\n",
       "    .dataframe tbody tr th {\n",
       "        vertical-align: top;\n",
       "    }\n",
       "\n",
       "    .dataframe thead th {\n",
       "        text-align: right;\n",
       "    }\n",
       "</style>\n",
       "<table border=\"1\" class=\"dataframe\">\n",
       "  <thead>\n",
       "    <tr style=\"text-align: right;\">\n",
       "      <th></th>\n",
       "      <th>participantId</th>\n",
       "      <th>enrollmentState</th>\n",
       "      <th>successfulRatingNeededToEarnIn</th>\n",
       "      <th>timestampOfLastStateChange</th>\n",
       "      <th>timestampOfLastEarnOut</th>\n",
       "      <th>modelingPopulation</th>\n",
       "      <th>modelingGroup</th>\n",
       "      <th>numberOfTimesEarnedOut</th>\n",
       "    </tr>\n",
       "  </thead>\n",
       "  <tbody>\n",
       "    <tr>\n",
       "      <th>0</th>\n",
       "      <td>B2D8708DD64F4A263D237C309DDFC40F96962E5B6CF8E2...</td>\n",
       "      <td>newUser</td>\n",
       "      <td>5</td>\n",
       "      <td>1709578909625</td>\n",
       "      <td>1</td>\n",
       "      <td>CORE</td>\n",
       "      <td>13.0</td>\n",
       "      <td>0</td>\n",
       "    </tr>\n",
       "    <tr>\n",
       "      <th>1</th>\n",
       "      <td>5684B38EB58FD8BE75ABA37F0BE040EC70380B002ADF9D...</td>\n",
       "      <td>earnedIn</td>\n",
       "      <td>5</td>\n",
       "      <td>1709573510566</td>\n",
       "      <td>1</td>\n",
       "      <td>CORE</td>\n",
       "      <td>13.0</td>\n",
       "      <td>0</td>\n",
       "    </tr>\n",
       "    <tr>\n",
       "      <th>2</th>\n",
       "      <td>1C0972F584F1BD912FB957D99A854609C93213D0A9C361...</td>\n",
       "      <td>newUser</td>\n",
       "      <td>5</td>\n",
       "      <td>1709578909625</td>\n",
       "      <td>1</td>\n",
       "      <td>CORE</td>\n",
       "      <td>13.0</td>\n",
       "      <td>0</td>\n",
       "    </tr>\n",
       "    <tr>\n",
       "      <th>3</th>\n",
       "      <td>78B383AA66981F722CB82AACB24CF853937CAC0F680DDB...</td>\n",
       "      <td>earnedIn</td>\n",
       "      <td>5</td>\n",
       "      <td>1709578909625</td>\n",
       "      <td>1</td>\n",
       "      <td>CORE</td>\n",
       "      <td>13.0</td>\n",
       "      <td>0</td>\n",
       "    </tr>\n",
       "    <tr>\n",
       "      <th>4</th>\n",
       "      <td>CAA3DEA7CFC07BD080F8BEFA3E6BC1575E6DE1BE2D3BBD...</td>\n",
       "      <td>earnedIn</td>\n",
       "      <td>5</td>\n",
       "      <td>1709578909625</td>\n",
       "      <td>1</td>\n",
       "      <td>CORE</td>\n",
       "      <td>13.0</td>\n",
       "      <td>0</td>\n",
       "    </tr>\n",
       "  </tbody>\n",
       "</table>\n",
       "</div>"
      ],
      "text/plain": [
       "                                       participantId enrollmentState  \\\n",
       "0  B2D8708DD64F4A263D237C309DDFC40F96962E5B6CF8E2...         newUser   \n",
       "1  5684B38EB58FD8BE75ABA37F0BE040EC70380B002ADF9D...        earnedIn   \n",
       "2  1C0972F584F1BD912FB957D99A854609C93213D0A9C361...         newUser   \n",
       "3  78B383AA66981F722CB82AACB24CF853937CAC0F680DDB...        earnedIn   \n",
       "4  CAA3DEA7CFC07BD080F8BEFA3E6BC1575E6DE1BE2D3BBD...        earnedIn   \n",
       "\n",
       "   successfulRatingNeededToEarnIn  timestampOfLastStateChange  \\\n",
       "0                               5               1709578909625   \n",
       "1                               5               1709573510566   \n",
       "2                               5               1709578909625   \n",
       "3                               5               1709578909625   \n",
       "4                               5               1709578909625   \n",
       "\n",
       "   timestampOfLastEarnOut modelingPopulation  modelingGroup  \\\n",
       "0                       1               CORE           13.0   \n",
       "1                       1               CORE           13.0   \n",
       "2                       1               CORE           13.0   \n",
       "3                       1               CORE           13.0   \n",
       "4                       1               CORE           13.0   \n",
       "\n",
       "   numberOfTimesEarnedOut  \n",
       "0                       0  \n",
       "1                       0  \n",
       "2                       0  \n",
       "3                       0  \n",
       "4                       0  "
      ]
     },
     "execution_count": 10,
     "metadata": {},
     "output_type": "execute_result"
    }
   ],
   "source": [
    "user = pd.read_csv(ue_fp, delimiter = '\\t')\n",
    "\n",
    "user.head()"
   ]
  },
  {
   "cell_type": "markdown",
   "id": "2aa63e6c",
   "metadata": {},
   "source": [
    "## Exploration"
   ]
  },
  {
   "cell_type": "markdown",
   "id": "56a77c5b6b4c6dcc",
   "metadata": {
    "collapsed": false,
    "jupyter": {
     "outputs_hidden": false
    }
   },
   "source": [
    "### Ratings"
   ]
  },
  {
   "cell_type": "code",
   "execution_count": 11,
   "id": "cb63b108",
   "metadata": {
    "ExecuteTime": {
     "end_time": "2024-05-20T17:24:30.255821Z",
     "start_time": "2024-05-20T17:24:30.241821Z"
    }
   },
   "outputs": [
    {
     "data": {
      "text/plain": [
       "(233145, 32)"
      ]
     },
     "execution_count": 11,
     "metadata": {},
     "output_type": "execute_result"
    }
   ],
   "source": [
    "random_raw.shape"
   ]
  },
  {
   "cell_type": "code",
   "execution_count": 12,
   "id": "d1abc7cf",
   "metadata": {
    "ExecuteTime": {
     "end_time": "2024-05-20T17:24:30.287822Z",
     "start_time": "2024-05-20T17:24:30.256822Z"
    }
   },
   "outputs": [
    {
     "data": {
      "text/plain": [
       "count    233145.000000\n",
       "mean          0.038071\n",
       "std           0.191367\n",
       "min           0.000000\n",
       "25%           0.000000\n",
       "50%           0.000000\n",
       "75%           0.000000\n",
       "max           1.000000\n",
       "Name: notHelpfulSpamHarassmentOrAbuse, dtype: float64"
      ]
     },
     "execution_count": 12,
     "metadata": {},
     "output_type": "execute_result"
    }
   ],
   "source": [
    "random_raw['notHelpfulSpamHarassmentOrAbuse'].describe()"
   ]
  },
  {
   "cell_type": "markdown",
   "id": "c83dc931aac421fc",
   "metadata": {
    "collapsed": false,
    "jupyter": {
     "outputs_hidden": false
    }
   },
   "source": [
    "### Notes "
   ]
  },
  {
   "cell_type": "code",
   "execution_count": 13,
   "id": "de392a1e32b8a140",
   "metadata": {
    "ExecuteTime": {
     "end_time": "2024-05-20T17:24:30.351822Z",
     "start_time": "2024-05-20T17:24:30.289822Z"
    },
    "collapsed": false,
    "jupyter": {
     "outputs_hidden": false
    }
   },
   "outputs": [
    {
     "name": "stdout",
     "output_type": "stream",
     "text": [
      "False    692922\n",
      "Name: noteId, dtype: int64\n",
      "True     585216\n",
      "False    107706\n",
      "Name: noteAuthorParticipantId, dtype: int64\n"
     ]
    }
   ],
   "source": [
    "print(notes_raw[\"noteId\"].duplicated().value_counts())\n",
    "\n",
    "print(notes_raw[\"noteAuthorParticipantId\"].duplicated().value_counts())"
   ]
  },
  {
   "cell_type": "markdown",
   "id": "1f4be27eb06dcd73",
   "metadata": {
    "collapsed": false,
    "jupyter": {
     "outputs_hidden": false
    }
   },
   "source": [
    "Because there are no duplicates in the `noteId`, it indicates that this is likely the joining key. "
   ]
  },
  {
   "cell_type": "markdown",
   "id": "3b6fe49571a49693",
   "metadata": {
    "collapsed": false,
    "jupyter": {
     "outputs_hidden": false
    }
   },
   "source": [
    "## Modificaitons"
   ]
  },
  {
   "cell_type": "markdown",
   "id": "b7bb99e5ea2b89af",
   "metadata": {
    "collapsed": false,
    "jupyter": {
     "outputs_hidden": false
    }
   },
   "source": [
    "### Ratings Table"
   ]
  },
  {
   "cell_type": "code",
   "execution_count": 14,
   "id": "95bd78c9",
   "metadata": {
    "ExecuteTime": {
     "end_time": "2024-05-20T17:26:59.393379Z",
     "start_time": "2024-05-20T17:26:59.352477Z"
    }
   },
   "outputs": [
    {
     "data": {
      "text/html": [
       "<div>\n",
       "<style scoped>\n",
       "    .dataframe tbody tr th:only-of-type {\n",
       "        vertical-align: middle;\n",
       "    }\n",
       "\n",
       "    .dataframe tbody tr th {\n",
       "        vertical-align: top;\n",
       "    }\n",
       "\n",
       "    .dataframe thead th {\n",
       "        text-align: right;\n",
       "    }\n",
       "</style>\n",
       "<table border=\"1\" class=\"dataframe\">\n",
       "  <thead>\n",
       "    <tr style=\"text-align: right;\">\n",
       "      <th></th>\n",
       "      <th>noteId</th>\n",
       "      <th>raterParticipantId</th>\n",
       "      <th>createdAtMillis</th>\n",
       "      <th>version</th>\n",
       "      <th>helpfulnessLevel</th>\n",
       "      <th>helpfulOther</th>\n",
       "      <th>helpfulClear</th>\n",
       "      <th>helpfulGoodSources</th>\n",
       "      <th>helpfulAddressesClaim</th>\n",
       "      <th>helpfulImportantContext</th>\n",
       "      <th>...</th>\n",
       "      <th>notHelpfulIncorrect</th>\n",
       "      <th>notHelpfulSourcesMissingOrUnreliable</th>\n",
       "      <th>notHelpfulMissingKeyPoints</th>\n",
       "      <th>notHelpfulHardToUnderstand</th>\n",
       "      <th>notHelpfulArgumentativeOrBiased</th>\n",
       "      <th>notHelpfulSpamHarassmentOrAbuse</th>\n",
       "      <th>notHelpfulIrrelevantSources</th>\n",
       "      <th>notHelpfulOpinionSpeculation</th>\n",
       "      <th>notHelpfulNoteNotNeeded</th>\n",
       "      <th>ratedOnTweetId</th>\n",
       "    </tr>\n",
       "  </thead>\n",
       "  <tbody>\n",
       "    <tr>\n",
       "      <th>9364138</th>\n",
       "      <td>1761266554724131298</td>\n",
       "      <td>49D3EC9394CFA8D34858BA3B634DF8B13A29DF22F56E38...</td>\n",
       "      <td>1708756408185</td>\n",
       "      <td>2</td>\n",
       "      <td>HELPFUL</td>\n",
       "      <td>0</td>\n",
       "      <td>1</td>\n",
       "      <td>1</td>\n",
       "      <td>1</td>\n",
       "      <td>1</td>\n",
       "      <td>...</td>\n",
       "      <td>0</td>\n",
       "      <td>0</td>\n",
       "      <td>0</td>\n",
       "      <td>0</td>\n",
       "      <td>0</td>\n",
       "      <td>0</td>\n",
       "      <td>0</td>\n",
       "      <td>0</td>\n",
       "      <td>0</td>\n",
       "      <td>1761005209612890563</td>\n",
       "    </tr>\n",
       "    <tr>\n",
       "      <th>3732057</th>\n",
       "      <td>1749115176345821522</td>\n",
       "      <td>FBFC3E6094D2E063FC95321B0284CDF9EDCCE347E8DC9E...</td>\n",
       "      <td>1705867550251</td>\n",
       "      <td>2</td>\n",
       "      <td>NOT_HELPFUL</td>\n",
       "      <td>0</td>\n",
       "      <td>0</td>\n",
       "      <td>0</td>\n",
       "      <td>0</td>\n",
       "      <td>0</td>\n",
       "      <td>...</td>\n",
       "      <td>0</td>\n",
       "      <td>0</td>\n",
       "      <td>0</td>\n",
       "      <td>0</td>\n",
       "      <td>0</td>\n",
       "      <td>0</td>\n",
       "      <td>0</td>\n",
       "      <td>0</td>\n",
       "      <td>1</td>\n",
       "      <td>1749047519265632440</td>\n",
       "    </tr>\n",
       "    <tr>\n",
       "      <th>44916</th>\n",
       "      <td>1657432813514240007</td>\n",
       "      <td>E9EE0EBEACD030DD0EB9F05ADFE1911B8436D0F8E326D1...</td>\n",
       "      <td>1684022553110</td>\n",
       "      <td>2</td>\n",
       "      <td>HELPFUL</td>\n",
       "      <td>0</td>\n",
       "      <td>1</td>\n",
       "      <td>1</td>\n",
       "      <td>1</td>\n",
       "      <td>1</td>\n",
       "      <td>...</td>\n",
       "      <td>0</td>\n",
       "      <td>0</td>\n",
       "      <td>0</td>\n",
       "      <td>0</td>\n",
       "      <td>0</td>\n",
       "      <td>0</td>\n",
       "      <td>0</td>\n",
       "      <td>0</td>\n",
       "      <td>0</td>\n",
       "      <td>-1</td>\n",
       "    </tr>\n",
       "    <tr>\n",
       "      <th>9028062</th>\n",
       "      <td>1736556082275778776</td>\n",
       "      <td>348A77843E3CF15D4168233C9BA8DF97DFF472897A3797...</td>\n",
       "      <td>1702922758645</td>\n",
       "      <td>2</td>\n",
       "      <td>HELPFUL</td>\n",
       "      <td>0</td>\n",
       "      <td>0</td>\n",
       "      <td>1</td>\n",
       "      <td>0</td>\n",
       "      <td>1</td>\n",
       "      <td>...</td>\n",
       "      <td>0</td>\n",
       "      <td>0</td>\n",
       "      <td>0</td>\n",
       "      <td>0</td>\n",
       "      <td>0</td>\n",
       "      <td>0</td>\n",
       "      <td>0</td>\n",
       "      <td>0</td>\n",
       "      <td>0</td>\n",
       "      <td>1736432316514242971</td>\n",
       "    </tr>\n",
       "    <tr>\n",
       "      <th>154481</th>\n",
       "      <td>1695023741590233289</td>\n",
       "      <td>88733EA1B79B5367B033493F21033C00EC180D554D3D6B...</td>\n",
       "      <td>1693030322913</td>\n",
       "      <td>2</td>\n",
       "      <td>NOT_HELPFUL</td>\n",
       "      <td>0</td>\n",
       "      <td>0</td>\n",
       "      <td>0</td>\n",
       "      <td>0</td>\n",
       "      <td>0</td>\n",
       "      <td>...</td>\n",
       "      <td>0</td>\n",
       "      <td>0</td>\n",
       "      <td>1</td>\n",
       "      <td>0</td>\n",
       "      <td>0</td>\n",
       "      <td>0</td>\n",
       "      <td>0</td>\n",
       "      <td>0</td>\n",
       "      <td>0</td>\n",
       "      <td>1695013353230664068</td>\n",
       "    </tr>\n",
       "  </tbody>\n",
       "</table>\n",
       "<p>5 rows × 22 columns</p>\n",
       "</div>"
      ],
      "text/plain": [
       "                      noteId  \\\n",
       "9364138  1761266554724131298   \n",
       "3732057  1749115176345821522   \n",
       "44916    1657432813514240007   \n",
       "9028062  1736556082275778776   \n",
       "154481   1695023741590233289   \n",
       "\n",
       "                                        raterParticipantId  createdAtMillis  \\\n",
       "9364138  49D3EC9394CFA8D34858BA3B634DF8B13A29DF22F56E38...    1708756408185   \n",
       "3732057  FBFC3E6094D2E063FC95321B0284CDF9EDCCE347E8DC9E...    1705867550251   \n",
       "44916    E9EE0EBEACD030DD0EB9F05ADFE1911B8436D0F8E326D1...    1684022553110   \n",
       "9028062  348A77843E3CF15D4168233C9BA8DF97DFF472897A3797...    1702922758645   \n",
       "154481   88733EA1B79B5367B033493F21033C00EC180D554D3D6B...    1693030322913   \n",
       "\n",
       "         version helpfulnessLevel  helpfulOther  helpfulClear  \\\n",
       "9364138        2          HELPFUL             0             1   \n",
       "3732057        2      NOT_HELPFUL             0             0   \n",
       "44916          2          HELPFUL             0             1   \n",
       "9028062        2          HELPFUL             0             0   \n",
       "154481         2      NOT_HELPFUL             0             0   \n",
       "\n",
       "         helpfulGoodSources  helpfulAddressesClaim  helpfulImportantContext  \\\n",
       "9364138                   1                      1                        1   \n",
       "3732057                   0                      0                        0   \n",
       "44916                     1                      1                        1   \n",
       "9028062                   1                      0                        1   \n",
       "154481                    0                      0                        0   \n",
       "\n",
       "         ...  notHelpfulIncorrect  notHelpfulSourcesMissingOrUnreliable  \\\n",
       "9364138  ...                    0                                     0   \n",
       "3732057  ...                    0                                     0   \n",
       "44916    ...                    0                                     0   \n",
       "9028062  ...                    0                                     0   \n",
       "154481   ...                    0                                     0   \n",
       "\n",
       "         notHelpfulMissingKeyPoints  notHelpfulHardToUnderstand  \\\n",
       "9364138                           0                           0   \n",
       "3732057                           0                           0   \n",
       "44916                             0                           0   \n",
       "9028062                           0                           0   \n",
       "154481                            1                           0   \n",
       "\n",
       "         notHelpfulArgumentativeOrBiased  notHelpfulSpamHarassmentOrAbuse  \\\n",
       "9364138                                0                                0   \n",
       "3732057                                0                                0   \n",
       "44916                                  0                                0   \n",
       "9028062                                0                                0   \n",
       "154481                                 0                                0   \n",
       "\n",
       "         notHelpfulIrrelevantSources  notHelpfulOpinionSpeculation  \\\n",
       "9364138                            0                             0   \n",
       "3732057                            0                             0   \n",
       "44916                              0                             0   \n",
       "9028062                            0                             0   \n",
       "154481                             0                             0   \n",
       "\n",
       "         notHelpfulNoteNotNeeded       ratedOnTweetId  \n",
       "9364138                        0  1761005209612890563  \n",
       "3732057                        1  1749047519265632440  \n",
       "44916                          0                   -1  \n",
       "9028062                        0  1736432316514242971  \n",
       "154481                         0  1695013353230664068  \n",
       "\n",
       "[5 rows x 22 columns]"
      ]
     },
     "execution_count": 14,
     "metadata": {},
     "output_type": "execute_result"
    }
   ],
   "source": [
    "drop_ratings= ['helpful', 'notHelpful', 'helpfulEmpathetic', 'helpfulInformative',\n",
    "        'helpfulUniqueContext','notHelpfulOpinionSpeculationOrBias', \n",
    "        'notHelpfulOutdated' ,'notHelpfulOffTopic', 'agree', 'disagree'] \n",
    "\n",
    "data = random_raw.drop(drop_ratings, axis = 1)\n",
    "data.head()"
   ]
  },
  {
   "cell_type": "markdown",
   "id": "a1708ac849924fc0",
   "metadata": {
    "collapsed": false,
    "jupyter": {
     "outputs_hidden": false
    }
   },
   "source": [
    "### Notes Table"
   ]
  },
  {
   "cell_type": "code",
   "execution_count": 15,
   "id": "4716a1af9ae711f0",
   "metadata": {
    "ExecuteTime": {
     "end_time": "2024-05-20T17:24:30.460822Z",
     "start_time": "2024-05-20T17:24:30.401822Z"
    },
    "collapsed": false,
    "jupyter": {
     "outputs_hidden": false
    }
   },
   "outputs": [
    {
     "data": {
      "text/html": [
       "<div>\n",
       "<style scoped>\n",
       "    .dataframe tbody tr th:only-of-type {\n",
       "        vertical-align: middle;\n",
       "    }\n",
       "\n",
       "    .dataframe tbody tr th {\n",
       "        vertical-align: top;\n",
       "    }\n",
       "\n",
       "    .dataframe thead th {\n",
       "        text-align: right;\n",
       "    }\n",
       "</style>\n",
       "<table border=\"1\" class=\"dataframe\">\n",
       "  <thead>\n",
       "    <tr style=\"text-align: right;\">\n",
       "      <th></th>\n",
       "      <th>noteId</th>\n",
       "      <th>noteAuthorParticipantId</th>\n",
       "      <th>createdAtMillis</th>\n",
       "      <th>tweetId</th>\n",
       "      <th>classification</th>\n",
       "      <th>misleadingOther</th>\n",
       "      <th>misleadingFactualError</th>\n",
       "      <th>misleadingManipulatedMedia</th>\n",
       "      <th>misleadingOutdatedInformation</th>\n",
       "      <th>misleadingMissingImportantContext</th>\n",
       "      <th>misleadingUnverifiedClaimAsFact</th>\n",
       "      <th>misleadingSatire</th>\n",
       "      <th>notMisleadingOther</th>\n",
       "      <th>notMisleadingFactuallyCorrect</th>\n",
       "      <th>notMisleadingOutdatedButNotWhenWritten</th>\n",
       "      <th>notMisleadingClearlySatire</th>\n",
       "      <th>notMisleadingPersonalOpinion</th>\n",
       "      <th>trustworthySources</th>\n",
       "      <th>isMediaNote</th>\n",
       "    </tr>\n",
       "  </thead>\n",
       "  <tbody>\n",
       "    <tr>\n",
       "      <th>0</th>\n",
       "      <td>1537142913737428992</td>\n",
       "      <td>5684B38EB58FD8BE75ABA37F0BE040EC70380B002ADF9D...</td>\n",
       "      <td>1655318404027</td>\n",
       "      <td>1377030478167937024</td>\n",
       "      <td>MISINFORMED_OR_POTENTIALLY_MISLEADING</td>\n",
       "      <td>0</td>\n",
       "      <td>1</td>\n",
       "      <td>0</td>\n",
       "      <td>0</td>\n",
       "      <td>1</td>\n",
       "      <td>1</td>\n",
       "      <td>0</td>\n",
       "      <td>0</td>\n",
       "      <td>0</td>\n",
       "      <td>0</td>\n",
       "      <td>0</td>\n",
       "      <td>0</td>\n",
       "      <td>1</td>\n",
       "      <td>0</td>\n",
       "    </tr>\n",
       "    <tr>\n",
       "      <th>1</th>\n",
       "      <td>1537145358521839617</td>\n",
       "      <td>5684B38EB58FD8BE75ABA37F0BE040EC70380B002ADF9D...</td>\n",
       "      <td>1655318986910</td>\n",
       "      <td>1536848327979016193</td>\n",
       "      <td>NOT_MISLEADING</td>\n",
       "      <td>0</td>\n",
       "      <td>0</td>\n",
       "      <td>0</td>\n",
       "      <td>0</td>\n",
       "      <td>0</td>\n",
       "      <td>0</td>\n",
       "      <td>0</td>\n",
       "      <td>0</td>\n",
       "      <td>0</td>\n",
       "      <td>0</td>\n",
       "      <td>1</td>\n",
       "      <td>1</td>\n",
       "      <td>0</td>\n",
       "      <td>0</td>\n",
       "    </tr>\n",
       "    <tr>\n",
       "      <th>2</th>\n",
       "      <td>1537147343715282945</td>\n",
       "      <td>5684B38EB58FD8BE75ABA37F0BE040EC70380B002ADF9D...</td>\n",
       "      <td>1655319460217</td>\n",
       "      <td>1537080831751102467</td>\n",
       "      <td>MISINFORMED_OR_POTENTIALLY_MISLEADING</td>\n",
       "      <td>0</td>\n",
       "      <td>0</td>\n",
       "      <td>0</td>\n",
       "      <td>0</td>\n",
       "      <td>1</td>\n",
       "      <td>0</td>\n",
       "      <td>0</td>\n",
       "      <td>0</td>\n",
       "      <td>0</td>\n",
       "      <td>0</td>\n",
       "      <td>0</td>\n",
       "      <td>0</td>\n",
       "      <td>1</td>\n",
       "      <td>0</td>\n",
       "    </tr>\n",
       "    <tr>\n",
       "      <th>3</th>\n",
       "      <td>1537204430730211328</td>\n",
       "      <td>5684B38EB58FD8BE75ABA37F0BE040EC70380B002ADF9D...</td>\n",
       "      <td>1655333070821</td>\n",
       "      <td>1537196168953974784</td>\n",
       "      <td>MISINFORMED_OR_POTENTIALLY_MISLEADING</td>\n",
       "      <td>0</td>\n",
       "      <td>1</td>\n",
       "      <td>0</td>\n",
       "      <td>1</td>\n",
       "      <td>1</td>\n",
       "      <td>1</td>\n",
       "      <td>0</td>\n",
       "      <td>0</td>\n",
       "      <td>0</td>\n",
       "      <td>0</td>\n",
       "      <td>0</td>\n",
       "      <td>0</td>\n",
       "      <td>1</td>\n",
       "      <td>0</td>\n",
       "    </tr>\n",
       "    <tr>\n",
       "      <th>4</th>\n",
       "      <td>1540422295029551104</td>\n",
       "      <td>5684B38EB58FD8BE75ABA37F0BE040EC70380B002ADF9D...</td>\n",
       "      <td>1656100269455</td>\n",
       "      <td>1540087463099736065</td>\n",
       "      <td>MISINFORMED_OR_POTENTIALLY_MISLEADING</td>\n",
       "      <td>0</td>\n",
       "      <td>1</td>\n",
       "      <td>0</td>\n",
       "      <td>0</td>\n",
       "      <td>1</td>\n",
       "      <td>1</td>\n",
       "      <td>0</td>\n",
       "      <td>0</td>\n",
       "      <td>0</td>\n",
       "      <td>0</td>\n",
       "      <td>0</td>\n",
       "      <td>0</td>\n",
       "      <td>1</td>\n",
       "      <td>0</td>\n",
       "    </tr>\n",
       "  </tbody>\n",
       "</table>\n",
       "</div>"
      ],
      "text/plain": [
       "                noteId                            noteAuthorParticipantId  \\\n",
       "0  1537142913737428992  5684B38EB58FD8BE75ABA37F0BE040EC70380B002ADF9D...   \n",
       "1  1537145358521839617  5684B38EB58FD8BE75ABA37F0BE040EC70380B002ADF9D...   \n",
       "2  1537147343715282945  5684B38EB58FD8BE75ABA37F0BE040EC70380B002ADF9D...   \n",
       "3  1537204430730211328  5684B38EB58FD8BE75ABA37F0BE040EC70380B002ADF9D...   \n",
       "4  1540422295029551104  5684B38EB58FD8BE75ABA37F0BE040EC70380B002ADF9D...   \n",
       "\n",
       "   createdAtMillis              tweetId  \\\n",
       "0    1655318404027  1377030478167937024   \n",
       "1    1655318986910  1536848327979016193   \n",
       "2    1655319460217  1537080831751102467   \n",
       "3    1655333070821  1537196168953974784   \n",
       "4    1656100269455  1540087463099736065   \n",
       "\n",
       "                          classification  misleadingOther  \\\n",
       "0  MISINFORMED_OR_POTENTIALLY_MISLEADING                0   \n",
       "1                         NOT_MISLEADING                0   \n",
       "2  MISINFORMED_OR_POTENTIALLY_MISLEADING                0   \n",
       "3  MISINFORMED_OR_POTENTIALLY_MISLEADING                0   \n",
       "4  MISINFORMED_OR_POTENTIALLY_MISLEADING                0   \n",
       "\n",
       "   misleadingFactualError  misleadingManipulatedMedia  \\\n",
       "0                       1                           0   \n",
       "1                       0                           0   \n",
       "2                       0                           0   \n",
       "3                       1                           0   \n",
       "4                       1                           0   \n",
       "\n",
       "   misleadingOutdatedInformation  misleadingMissingImportantContext  \\\n",
       "0                              0                                  1   \n",
       "1                              0                                  0   \n",
       "2                              0                                  1   \n",
       "3                              1                                  1   \n",
       "4                              0                                  1   \n",
       "\n",
       "   misleadingUnverifiedClaimAsFact  misleadingSatire  notMisleadingOther  \\\n",
       "0                                1                 0                   0   \n",
       "1                                0                 0                   0   \n",
       "2                                0                 0                   0   \n",
       "3                                1                 0                   0   \n",
       "4                                1                 0                   0   \n",
       "\n",
       "   notMisleadingFactuallyCorrect  notMisleadingOutdatedButNotWhenWritten  \\\n",
       "0                              0                                       0   \n",
       "1                              0                                       0   \n",
       "2                              0                                       0   \n",
       "3                              0                                       0   \n",
       "4                              0                                       0   \n",
       "\n",
       "   notMisleadingClearlySatire  notMisleadingPersonalOpinion  \\\n",
       "0                           0                             0   \n",
       "1                           1                             1   \n",
       "2                           0                             0   \n",
       "3                           0                             0   \n",
       "4                           0                             0   \n",
       "\n",
       "   trustworthySources  isMediaNote  \n",
       "0                   1            0  \n",
       "1                   0            0  \n",
       "2                   1            0  \n",
       "3                   1            0  \n",
       "4                   1            0  "
      ]
     },
     "execution_count": 15,
     "metadata": {},
     "output_type": "execute_result"
    }
   ],
   "source": [
    "drop_notes= ['believable', 'harmful', 'validationDifficulty', 'summary']\n",
    "notes = notes_raw.drop(drop_notes, axis = 1)\n",
    "notes.head()\n"
   ]
  },
  {
   "cell_type": "markdown",
   "id": "f7f385643f42387f",
   "metadata": {
    "collapsed": false,
    "jupyter": {
     "outputs_hidden": false
    }
   },
   "source": [
    "## Joining / Final Edits"
   ]
  },
  {
   "cell_type": "code",
   "execution_count": 16,
   "id": "a6e2b85df2042c01",
   "metadata": {
    "ExecuteTime": {
     "end_time": "2024-05-20T17:25:13.884597Z",
     "start_time": "2024-05-20T17:25:13.373849Z"
    },
    "collapsed": false,
    "jupyter": {
     "outputs_hidden": false
    }
   },
   "outputs": [],
   "source": [
    "pre_df = data.merge(notes, how='left', on = \"noteId\")\n",
    "df = pre_df.merge(user, how='left', left_on='raterParticipantId', right_on='participantId')"
   ]
  },
  {
   "cell_type": "code",
   "execution_count": 17,
   "id": "d6a6b410ab73b022",
   "metadata": {
    "ExecuteTime": {
     "end_time": "2024-05-20T17:24:31.298821Z",
     "start_time": "2024-05-20T17:24:31.126822Z"
    },
    "collapsed": false,
    "jupyter": {
     "outputs_hidden": false
    }
   },
   "outputs": [
    {
     "data": {
      "text/plain": [
       "noteId                                        0\n",
       "raterParticipantId                            0\n",
       "createdAtMillis_x                             0\n",
       "version                                       0\n",
       "helpfulnessLevel                            263\n",
       "helpfulOther                                  0\n",
       "helpfulClear                                  0\n",
       "helpfulGoodSources                            0\n",
       "helpfulAddressesClaim                         0\n",
       "helpfulImportantContext                       0\n",
       "helpfulUnbiasedLanguage                       0\n",
       "notHelpfulOther                               0\n",
       "notHelpfulIncorrect                           0\n",
       "notHelpfulSourcesMissingOrUnreliable          0\n",
       "notHelpfulMissingKeyPoints                    0\n",
       "notHelpfulHardToUnderstand                    0\n",
       "notHelpfulArgumentativeOrBiased               0\n",
       "notHelpfulSpamHarassmentOrAbuse               0\n",
       "notHelpfulIrrelevantSources                   0\n",
       "notHelpfulOpinionSpeculation                  0\n",
       "notHelpfulNoteNotNeeded                       0\n",
       "ratedOnTweetId                                0\n",
       "noteAuthorParticipantId                   11940\n",
       "createdAtMillis_y                         11940\n",
       "tweetId                                   11940\n",
       "classification                            11940\n",
       "misleadingOther                           11940\n",
       "misleadingFactualError                    11940\n",
       "misleadingManipulatedMedia                11940\n",
       "misleadingOutdatedInformation             11940\n",
       "misleadingMissingImportantContext         11940\n",
       "misleadingUnverifiedClaimAsFact           11940\n",
       "misleadingSatire                          11940\n",
       "notMisleadingOther                        11940\n",
       "notMisleadingFactuallyCorrect             11940\n",
       "notMisleadingOutdatedButNotWhenWritten    11940\n",
       "notMisleadingClearlySatire                11940\n",
       "notMisleadingPersonalOpinion              11940\n",
       "trustworthySources                        11940\n",
       "isMediaNote                               11940\n",
       "dtype: int64"
      ]
     },
     "execution_count": 17,
     "metadata": {},
     "output_type": "execute_result"
    }
   ],
   "source": [
    "pre_df.isna().sum()"
   ]
  },
  {
   "cell_type": "code",
   "execution_count": 18,
   "id": "df7ef461a665e1c",
   "metadata": {
    "ExecuteTime": {
     "end_time": "2024-05-20T17:24:31.564823Z",
     "start_time": "2024-05-20T17:24:31.300823Z"
    },
    "collapsed": false,
    "jupyter": {
     "outputs_hidden": false
    }
   },
   "outputs": [
    {
     "data": {
      "text/plain": [
       "noteId                                        0\n",
       "raterParticipantId                            0\n",
       "createdAtMillis_x                             0\n",
       "version                                       0\n",
       "helpfulnessLevel                            263\n",
       "helpfulOther                                  0\n",
       "helpfulClear                                  0\n",
       "helpfulGoodSources                            0\n",
       "helpfulAddressesClaim                         0\n",
       "helpfulImportantContext                       0\n",
       "helpfulUnbiasedLanguage                       0\n",
       "notHelpfulOther                               0\n",
       "notHelpfulIncorrect                           0\n",
       "notHelpfulSourcesMissingOrUnreliable          0\n",
       "notHelpfulMissingKeyPoints                    0\n",
       "notHelpfulHardToUnderstand                    0\n",
       "notHelpfulArgumentativeOrBiased               0\n",
       "notHelpfulSpamHarassmentOrAbuse               0\n",
       "notHelpfulIrrelevantSources                   0\n",
       "notHelpfulOpinionSpeculation                  0\n",
       "notHelpfulNoteNotNeeded                       0\n",
       "ratedOnTweetId                                0\n",
       "noteAuthorParticipantId                   11940\n",
       "createdAtMillis_y                         11940\n",
       "tweetId                                   11940\n",
       "classification                            11940\n",
       "misleadingOther                           11940\n",
       "misleadingFactualError                    11940\n",
       "misleadingManipulatedMedia                11940\n",
       "misleadingOutdatedInformation             11940\n",
       "misleadingMissingImportantContext         11940\n",
       "misleadingUnverifiedClaimAsFact           11940\n",
       "misleadingSatire                          11940\n",
       "notMisleadingOther                        11940\n",
       "notMisleadingFactuallyCorrect             11940\n",
       "notMisleadingOutdatedButNotWhenWritten    11940\n",
       "notMisleadingClearlySatire                11940\n",
       "notMisleadingPersonalOpinion              11940\n",
       "trustworthySources                        11940\n",
       "isMediaNote                               11940\n",
       "participantId                                 0\n",
       "enrollmentState                               0\n",
       "successfulRatingNeededToEarnIn                0\n",
       "timestampOfLastStateChange                    0\n",
       "timestampOfLastEarnOut                        0\n",
       "modelingPopulation                            0\n",
       "modelingGroup                                 0\n",
       "numberOfTimesEarnedOut                        0\n",
       "dtype: int64"
      ]
     },
     "execution_count": 18,
     "metadata": {},
     "output_type": "execute_result"
    }
   ],
   "source": [
    "df.isna().sum()"
   ]
  },
  {
   "cell_type": "markdown",
   "id": "6122ef900e8c5f6",
   "metadata": {
    "collapsed": false,
    "jupyter": {
     "outputs_hidden": false
    }
   },
   "source": [
    "**Remove empty values** "
   ]
  },
  {
   "cell_type": "code",
   "execution_count": 19,
   "id": "e95126f0aed1a54d",
   "metadata": {
    "ExecuteTime": {
     "end_time": "2024-05-20T17:24:31.943824Z",
     "start_time": "2024-05-20T17:24:31.566823Z"
    },
    "collapsed": false,
    "jupyter": {
     "outputs_hidden": false
    }
   },
   "outputs": [],
   "source": [
    "df.dropna(inplace = True)"
   ]
  },
  {
   "cell_type": "code",
   "execution_count": 20,
   "id": "248373bcc7c9ed61",
   "metadata": {
    "ExecuteTime": {
     "end_time": "2024-05-20T17:24:31.959823Z",
     "start_time": "2024-05-20T17:24:31.945823Z"
    },
    "collapsed": false,
    "jupyter": {
     "outputs_hidden": false
    }
   },
   "outputs": [
    {
     "data": {
      "text/plain": [
       "(220979, 48)"
      ]
     },
     "execution_count": 20,
     "metadata": {},
     "output_type": "execute_result"
    }
   ],
   "source": [
    "df.shape"
   ]
  },
  {
   "cell_type": "markdown",
   "id": "bb321e9d-8e6a-44c0-a65c-d60e1faa876d",
   "metadata": {},
   "source": [
    "### Rejoining agree/disagree"
   ]
  },
  {
   "cell_type": "code",
   "execution_count": 21,
   "id": "5a490eee-431b-414a-afcb-6aee05176c25",
   "metadata": {},
   "outputs": [],
   "source": [
    "df['agree'] = random_raw['agree']\n",
    "df['disagree'] = random_raw['disagree']"
   ]
  },
  {
   "cell_type": "code",
   "execution_count": 22,
   "id": "33b1a021-d483-4e8b-bfac-7712e503e26c",
   "metadata": {},
   "outputs": [
    {
     "data": {
      "text/plain": [
       "(220979, 50)"
      ]
     },
     "execution_count": 22,
     "metadata": {},
     "output_type": "execute_result"
    }
   ],
   "source": [
    "df.shape"
   ]
  },
  {
   "cell_type": "code",
   "execution_count": 23,
   "id": "c6db7df2-ce25-493f-8d9c-6e686aaea712",
   "metadata": {},
   "outputs": [
    {
     "name": "stdout",
     "output_type": "stream",
     "text": [
      "noteId                                    [1761266554724131298, 1749115176345821522, 165...\n",
      "raterParticipantId                        [49D3EC9394CFA8D34858BA3B634DF8B13A29DF22F56E3...\n",
      "createdAtMillis_x                         [1708756408185, 1705867550251, 1684022553110, ...\n",
      "version                                                                                 [2]\n",
      "helpfulnessLevel                                   [HELPFUL, NOT_HELPFUL, SOMEWHAT_HELPFUL]\n",
      "helpfulOther                                                                         [0, 1]\n",
      "helpfulClear                                                                         [1, 0]\n",
      "helpfulGoodSources                                                                   [1, 0]\n",
      "helpfulAddressesClaim                                                                [1, 0]\n",
      "helpfulImportantContext                                                              [1, 0]\n",
      "helpfulUnbiasedLanguage                                                              [0, 1]\n",
      "notHelpfulOther                                                                      [0, 1]\n",
      "notHelpfulIncorrect                                                                  [0, 1]\n",
      "notHelpfulSourcesMissingOrUnreliable                                                 [0, 1]\n",
      "notHelpfulMissingKeyPoints                                                           [0, 1]\n",
      "notHelpfulHardToUnderstand                                                           [0, 1]\n",
      "notHelpfulArgumentativeOrBiased                                                      [0, 1]\n",
      "notHelpfulSpamHarassmentOrAbuse                                                      [0, 1]\n",
      "notHelpfulIrrelevantSources                                                          [0, 1]\n",
      "notHelpfulOpinionSpeculation                                                         [0, 1]\n",
      "notHelpfulNoteNotNeeded                                                              [0, 1]\n",
      "ratedOnTweetId                            [1761005209612890563, 1749047519265632440, -1,...\n",
      "noteAuthorParticipantId                   [7F16863BE3FB87264952B6B64F80825EDA9544AAAC92B...\n",
      "createdAtMillis_y                         [1708753644052.0, 1705856529685.0, 16839977510...\n",
      "tweetId                                   [1.7610052096128906e+18, 1.7490475192656325e+1...\n",
      "classification                            [MISINFORMED_OR_POTENTIALLY_MISLEADING, NOT_MI...\n",
      "misleadingOther                                                                  [0.0, 1.0]\n",
      "misleadingFactualError                                                           [1.0, 0.0]\n",
      "misleadingManipulatedMedia                                                       [0.0, 1.0]\n",
      "misleadingOutdatedInformation                                                    [0.0, 1.0]\n",
      "misleadingMissingImportantContext                                                [1.0, 0.0]\n",
      "misleadingUnverifiedClaimAsFact                                                  [0.0, 1.0]\n",
      "misleadingSatire                                                                 [0.0, 1.0]\n",
      "notMisleadingOther                                                               [0.0, 1.0]\n",
      "notMisleadingFactuallyCorrect                                                    [0.0, 1.0]\n",
      "notMisleadingOutdatedButNotWhenWritten                                           [0.0, 1.0]\n",
      "notMisleadingClearlySatire                                                       [0.0, 1.0]\n",
      "notMisleadingPersonalOpinion                                                     [0.0, 1.0]\n",
      "trustworthySources                                                               [1.0, 0.0]\n",
      "isMediaNote                                                                      [0.0, 1.0]\n",
      "participantId                             [49D3EC9394CFA8D34858BA3B634DF8B13A29DF22F56E3...\n",
      "enrollmentState                           [earnedIn, newUser, atRisk, earnedOutAcknowled...\n",
      "successfulRatingNeededToEarnIn            [5, 23, 28, 131, 25, 10, 36, 22, 38, 14, 241, ...\n",
      "timestampOfLastStateChange                [1709578909625, 1709573510566, 1709794531310, ...\n",
      "timestampOfLastEarnOut                    [1, 1693260738183, 1705946953803, 170448143234...\n",
      "modelingPopulation                                        [CORE, EXPANSION, EXPANSION_PLUS]\n",
      "modelingGroup                             [11.0, 3.0, 13.0, 0.0, 5.0, 9.0, 4.0, 14.0, 6....\n",
      "numberOfTimesEarnedOut                                                            [0, 1, 2]\n",
      "agree                                                                       [nan, 0.0, 1.0]\n",
      "disagree                                                                    [nan, 0.0, 1.0]\n",
      "dtype: object\n"
     ]
    }
   ],
   "source": [
    "# Get the counts of unique values for all columns\n",
    "unique_counts_all_columns = df.apply(lambda x: x.unique())\n",
    "\n",
    "# Display the result\n",
    "print(unique_counts_all_columns)"
   ]
  },
  {
   "cell_type": "code",
   "execution_count": 26,
   "id": "983388d2-6427-4a2c-8dd6-9cce35ecb7ae",
   "metadata": {},
   "outputs": [
    {
     "data": {
      "text/plain": [
       "noteId                                         0\n",
       "raterParticipantId                             0\n",
       "createdAtMillis_x                              0\n",
       "version                                        0\n",
       "helpfulnessLevel                               0\n",
       "helpfulOther                                   0\n",
       "helpfulClear                                   0\n",
       "helpfulGoodSources                             0\n",
       "helpfulAddressesClaim                          0\n",
       "helpfulImportantContext                        0\n",
       "helpfulUnbiasedLanguage                        0\n",
       "notHelpfulOther                                0\n",
       "notHelpfulIncorrect                            0\n",
       "notHelpfulSourcesMissingOrUnreliable           0\n",
       "notHelpfulMissingKeyPoints                     0\n",
       "notHelpfulHardToUnderstand                     0\n",
       "notHelpfulArgumentativeOrBiased                0\n",
       "notHelpfulSpamHarassmentOrAbuse                0\n",
       "notHelpfulIrrelevantSources                    0\n",
       "notHelpfulOpinionSpeculation                   0\n",
       "notHelpfulNoteNotNeeded                        0\n",
       "ratedOnTweetId                                 0\n",
       "noteAuthorParticipantId                        0\n",
       "createdAtMillis_y                              0\n",
       "tweetId                                        0\n",
       "classification                                 0\n",
       "misleadingOther                                0\n",
       "misleadingFactualError                         0\n",
       "misleadingManipulatedMedia                     0\n",
       "misleadingOutdatedInformation                  0\n",
       "misleadingMissingImportantContext              0\n",
       "misleadingUnverifiedClaimAsFact                0\n",
       "misleadingSatire                               0\n",
       "notMisleadingOther                             0\n",
       "notMisleadingFactuallyCorrect                  0\n",
       "notMisleadingOutdatedButNotWhenWritten         0\n",
       "notMisleadingClearlySatire                     0\n",
       "notMisleadingPersonalOpinion                   0\n",
       "trustworthySources                             0\n",
       "isMediaNote                                    0\n",
       "participantId                                  0\n",
       "enrollmentState                                0\n",
       "successfulRatingNeededToEarnIn                 0\n",
       "timestampOfLastStateChange                     0\n",
       "timestampOfLastEarnOut                         0\n",
       "modelingPopulation                             0\n",
       "modelingGroup                                  0\n",
       "numberOfTimesEarnedOut                         0\n",
       "agree                                     215559\n",
       "disagree                                  215559\n",
       "dtype: int64"
      ]
     },
     "execution_count": 26,
     "metadata": {},
     "output_type": "execute_result"
    }
   ],
   "source": [
    "df.isna().sum()"
   ]
  },
  {
   "cell_type": "code",
   "execution_count": 27,
   "id": "e7e30c3d-838a-4e18-b019-3adfb3d5003c",
   "metadata": {},
   "outputs": [
    {
     "data": {
      "text/plain": [
       "97.54727824815933"
      ]
     },
     "execution_count": 27,
     "metadata": {},
     "output_type": "execute_result"
    }
   ],
   "source": [
    "215559/220979*100"
   ]
  },
  {
   "cell_type": "code",
   "execution_count": 24,
   "id": "a82d32f6-4359-4f8c-bf9a-ec279424ac9b",
   "metadata": {},
   "outputs": [
    {
     "name": "stdout",
     "output_type": "stream",
     "text": [
      "noteId                                    [1761266554724131298, 1749115176345821522, 165...\n",
      "raterParticipantId                        [49D3EC9394CFA8D34858BA3B634DF8B13A29DF22F56E3...\n",
      "createdAtMillis_x                         [1708756408185, 1705867550251, 1684022553110, ...\n",
      "version                                                                                 [2]\n",
      "helpfulnessLevel                                   [HELPFUL, NOT_HELPFUL, SOMEWHAT_HELPFUL]\n",
      "helpfulOther                                                                         [0, 1]\n",
      "helpfulClear                                                                         [1, 0]\n",
      "helpfulGoodSources                                                                   [1, 0]\n",
      "helpfulAddressesClaim                                                                [1, 0]\n",
      "helpfulImportantContext                                                              [1, 0]\n",
      "helpfulUnbiasedLanguage                                                              [0, 1]\n",
      "notHelpfulOther                                                                      [0, 1]\n",
      "notHelpfulIncorrect                                                                  [0, 1]\n",
      "notHelpfulSourcesMissingOrUnreliable                                                 [0, 1]\n",
      "notHelpfulMissingKeyPoints                                                           [0, 1]\n",
      "notHelpfulHardToUnderstand                                                           [0, 1]\n",
      "notHelpfulArgumentativeOrBiased                                                      [0, 1]\n",
      "notHelpfulSpamHarassmentOrAbuse                                                      [0, 1]\n",
      "notHelpfulIrrelevantSources                                                          [0, 1]\n",
      "notHelpfulOpinionSpeculation                                                         [0, 1]\n",
      "notHelpfulNoteNotNeeded                                                              [0, 1]\n",
      "ratedOnTweetId                            [1761005209612890563, 1749047519265632440, -1,...\n",
      "noteAuthorParticipantId                   [7F16863BE3FB87264952B6B64F80825EDA9544AAAC92B...\n",
      "createdAtMillis_y                         [1708753644052.0, 1705856529685.0, 16839977510...\n",
      "tweetId                                   [1.7610052096128906e+18, 1.7490475192656325e+1...\n",
      "classification                            [MISINFORMED_OR_POTENTIALLY_MISLEADING, NOT_MI...\n",
      "misleadingOther                                                                  [0.0, 1.0]\n",
      "misleadingFactualError                                                           [1.0, 0.0]\n",
      "misleadingManipulatedMedia                                                       [0.0, 1.0]\n",
      "misleadingOutdatedInformation                                                    [0.0, 1.0]\n",
      "misleadingMissingImportantContext                                                [1.0, 0.0]\n",
      "misleadingUnverifiedClaimAsFact                                                  [0.0, 1.0]\n",
      "misleadingSatire                                                                 [0.0, 1.0]\n",
      "notMisleadingOther                                                               [0.0, 1.0]\n",
      "notMisleadingFactuallyCorrect                                                    [0.0, 1.0]\n",
      "notMisleadingOutdatedButNotWhenWritten                                           [0.0, 1.0]\n",
      "notMisleadingClearlySatire                                                       [0.0, 1.0]\n",
      "notMisleadingPersonalOpinion                                                     [0.0, 1.0]\n",
      "trustworthySources                                                               [1.0, 0.0]\n",
      "isMediaNote                                                                      [0.0, 1.0]\n",
      "participantId                             [49D3EC9394CFA8D34858BA3B634DF8B13A29DF22F56E3...\n",
      "enrollmentState                           [earnedIn, newUser, atRisk, earnedOutAcknowled...\n",
      "successfulRatingNeededToEarnIn            [5, 23, 28, 131, 25, 10, 36, 22, 38, 14, 241, ...\n",
      "timestampOfLastStateChange                [1709578909625, 1709573510566, 1709794531310, ...\n",
      "timestampOfLastEarnOut                    [1, 1693260738183, 1705946953803, 170448143234...\n",
      "modelingPopulation                                        [CORE, EXPANSION, EXPANSION_PLUS]\n",
      "modelingGroup                             [11.0, 3.0, 13.0, 0.0, 5.0, 9.0, 4.0, 14.0, 6....\n",
      "numberOfTimesEarnedOut                                                            [0, 1, 2]\n",
      "agree                                                                            [0.0, 1.0]\n",
      "disagree                                                                         [0.0, 1.0]\n",
      "dtype: object\n"
     ]
    },
    {
     "data": {
      "text/plain": [
       "(220979, 50)"
      ]
     },
     "execution_count": 24,
     "metadata": {},
     "output_type": "execute_result"
    }
   ],
   "source": [
    "df2 = df.fillna(0.0)\n",
    "\n",
    "# Get the counts of unique values for all columns\n",
    "unique_counts_all_columns = df2.apply(lambda x: x.unique())\n",
    "\n",
    "# Display the result\n",
    "print(unique_counts_all_columns)\n",
    "\n",
    "df2.shape"
   ]
  },
  {
   "cell_type": "markdown",
   "id": "184cd965",
   "metadata": {},
   "source": [
    "## Write to File"
   ]
  },
  {
   "cell_type": "code",
   "execution_count": 25,
   "id": "c79136bb",
   "metadata": {
    "ExecuteTime": {
     "end_time": "2024-05-20T17:24:32.337822Z",
     "start_time": "2024-05-20T17:24:32.324823Z"
    }
   },
   "outputs": [],
   "source": [
    "#df2.to_csv('ratings_clean_small.csv', index = False)"
   ]
  }
 ],
 "metadata": {
  "kernelspec": {
   "display_name": "Python 3 (ipykernel)",
   "language": "python",
   "name": "python3"
  },
  "language_info": {
   "codemirror_mode": {
    "name": "ipython",
    "version": 3
   },
   "file_extension": ".py",
   "mimetype": "text/x-python",
   "name": "python",
   "nbconvert_exporter": "python",
   "pygments_lexer": "ipython3",
   "version": "3.10.14"
  }
 },
 "nbformat": 4,
 "nbformat_minor": 5
}
