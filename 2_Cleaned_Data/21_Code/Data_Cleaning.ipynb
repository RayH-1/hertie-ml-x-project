{
 "cells": [
  {
   "cell_type": "markdown",
   "id": "e8600bb9",
   "metadata": {},
   "source": [
    "# Setup"
   ]
  },
  {
   "cell_type": "code",
   "execution_count": 14,
   "id": "aab05eec",
   "metadata": {
    "ExecuteTime": {
     "end_time": "2024-04-04T19:50:33.621443Z",
     "start_time": "2024-04-04T19:50:33.614443Z"
    }
   },
   "outputs": [],
   "source": [
    "import pandas as pd"
   ]
  },
  {
   "cell_type": "markdown",
   "id": "a79369ff",
   "metadata": {},
   "source": [
    "## To drop:\n",
    "\n",
    "**Notes**\n",
    "believable,\n",
    "harmful,\n",
    "validationDifficulty,\n",
    "summary\n",
    "\n",
    "**Ratings**\n",
    "helpful\n",
    "notHelpful\n",
    "helpfulEmpathetic\n",
    "helpfulInformative\n",
    "helpfulUniqueContext\t\n",
    "NotHelpfulOpinionSpeculationOrBias\n",
    "notHelpfulOutdated\n",
    "notHelpfulOffTopic\n",
    "\n",
    "**User Enrollment**\n",
    "\n",
    "\n",
    "**Any null values AFTER random assignment.**"
   ]
  },
  {
   "cell_type": "code",
   "execution_count": 15,
   "id": "0f858e6b",
   "metadata": {
    "ExecuteTime": {
     "end_time": "2024-04-04T19:50:33.700443Z",
     "start_time": "2024-04-04T19:50:33.693444Z"
    }
   },
   "outputs": [],
   "source": [
    "file_path = r\"~\\Documents\\Hertie School\\22_Machine-Learning\\hertie-ml-x-project\\1_Raw_Data\\ratings.tsv\""
   ]
  },
  {
   "cell_type": "markdown",
   "id": "6a12fe24",
   "metadata": {},
   "source": [
    "Open the Ratings table"
   ]
  },
  {
   "cell_type": "code",
   "execution_count": 16,
   "id": "025124b7",
   "metadata": {
    "ExecuteTime": {
     "end_time": "2024-04-04T19:50:50.354685Z",
     "start_time": "2024-04-04T19:50:33.701443Z"
    }
   },
   "outputs": [],
   "source": [
    "raw = pd.read_csv(file_path, delimiter = '\\t')"
   ]
  },
  {
   "cell_type": "code",
   "execution_count": 17,
   "id": "a18bf2e8",
   "metadata": {
    "ExecuteTime": {
     "end_time": "2024-04-04T19:50:50.436203Z",
     "start_time": "2024-04-04T19:50:50.376535Z"
    }
   },
   "outputs": [
    {
     "data": {
      "text/plain": "                noteId                                 raterParticipantId  \\\n0  1743245493138862440  B2D8708DD64F4A263D237C309DDFC40F96962E5B6CF8E2...   \n1  1746259110167777732  B2D8708DD64F4A263D237C309DDFC40F96962E5B6CF8E2...   \n2  1748100277331271705  B2D8708DD64F4A263D237C309DDFC40F96962E5B6CF8E2...   \n3  1749931359206871054  B2D8708DD64F4A263D237C309DDFC40F96962E5B6CF8E2...   \n4  1755964879553327466  B2D8708DD64F4A263D237C309DDFC40F96962E5B6CF8E2...   \n\n   createdAtMillis  version  agree  disagree  helpful  notHelpful  \\\n0    1704743786947        2      0         0        0           0   \n1    1705251123061        2      0         0        0           0   \n2    1706638688163        2      0         0        0           0   \n3    1707621015370        2      0         0        0           0   \n4    1707509443077        2      0         0        0           0   \n\n   helpfulnessLevel  helpfulOther  ...  notHelpfulMissingKeyPoints  \\\n0           HELPFUL             0  ...                           0   \n1           HELPFUL             0  ...                           0   \n2           HELPFUL             0  ...                           0   \n3           HELPFUL             0  ...                           0   \n4  SOMEWHAT_HELPFUL             0  ...                           0   \n\n   notHelpfulOutdated  notHelpfulHardToUnderstand  \\\n0                   0                           0   \n1                   0                           0   \n2                   0                           0   \n3                   0                           0   \n4                   0                           0   \n\n   notHelpfulArgumentativeOrBiased  notHelpfulOffTopic  \\\n0                                0                   0   \n1                                0                   0   \n2                                0                   0   \n3                                0                   0   \n4                                0                   0   \n\n   notHelpfulSpamHarassmentOrAbuse  notHelpfulIrrelevantSources  \\\n0                                0                            0   \n1                                0                            0   \n2                                0                            0   \n3                                0                            0   \n4                                0                            0   \n\n   notHelpfulOpinionSpeculation  notHelpfulNoteNotNeeded       ratedOnTweetId  \n0                             0                        0  1742976476432196100  \n1                             0                        0  1746211750507417736  \n2                             0                        0  1748050105327063491  \n3                             0                        0  1749839770224566328  \n4                             0                        0  1755959073189617680  \n\n[5 rows x 32 columns]",
      "text/html": "<div>\n<style scoped>\n    .dataframe tbody tr th:only-of-type {\n        vertical-align: middle;\n    }\n\n    .dataframe tbody tr th {\n        vertical-align: top;\n    }\n\n    .dataframe thead th {\n        text-align: right;\n    }\n</style>\n<table border=\"1\" class=\"dataframe\">\n  <thead>\n    <tr style=\"text-align: right;\">\n      <th></th>\n      <th>noteId</th>\n      <th>raterParticipantId</th>\n      <th>createdAtMillis</th>\n      <th>version</th>\n      <th>agree</th>\n      <th>disagree</th>\n      <th>helpful</th>\n      <th>notHelpful</th>\n      <th>helpfulnessLevel</th>\n      <th>helpfulOther</th>\n      <th>...</th>\n      <th>notHelpfulMissingKeyPoints</th>\n      <th>notHelpfulOutdated</th>\n      <th>notHelpfulHardToUnderstand</th>\n      <th>notHelpfulArgumentativeOrBiased</th>\n      <th>notHelpfulOffTopic</th>\n      <th>notHelpfulSpamHarassmentOrAbuse</th>\n      <th>notHelpfulIrrelevantSources</th>\n      <th>notHelpfulOpinionSpeculation</th>\n      <th>notHelpfulNoteNotNeeded</th>\n      <th>ratedOnTweetId</th>\n    </tr>\n  </thead>\n  <tbody>\n    <tr>\n      <th>0</th>\n      <td>1743245493138862440</td>\n      <td>B2D8708DD64F4A263D237C309DDFC40F96962E5B6CF8E2...</td>\n      <td>1704743786947</td>\n      <td>2</td>\n      <td>0</td>\n      <td>0</td>\n      <td>0</td>\n      <td>0</td>\n      <td>HELPFUL</td>\n      <td>0</td>\n      <td>...</td>\n      <td>0</td>\n      <td>0</td>\n      <td>0</td>\n      <td>0</td>\n      <td>0</td>\n      <td>0</td>\n      <td>0</td>\n      <td>0</td>\n      <td>0</td>\n      <td>1742976476432196100</td>\n    </tr>\n    <tr>\n      <th>1</th>\n      <td>1746259110167777732</td>\n      <td>B2D8708DD64F4A263D237C309DDFC40F96962E5B6CF8E2...</td>\n      <td>1705251123061</td>\n      <td>2</td>\n      <td>0</td>\n      <td>0</td>\n      <td>0</td>\n      <td>0</td>\n      <td>HELPFUL</td>\n      <td>0</td>\n      <td>...</td>\n      <td>0</td>\n      <td>0</td>\n      <td>0</td>\n      <td>0</td>\n      <td>0</td>\n      <td>0</td>\n      <td>0</td>\n      <td>0</td>\n      <td>0</td>\n      <td>1746211750507417736</td>\n    </tr>\n    <tr>\n      <th>2</th>\n      <td>1748100277331271705</td>\n      <td>B2D8708DD64F4A263D237C309DDFC40F96962E5B6CF8E2...</td>\n      <td>1706638688163</td>\n      <td>2</td>\n      <td>0</td>\n      <td>0</td>\n      <td>0</td>\n      <td>0</td>\n      <td>HELPFUL</td>\n      <td>0</td>\n      <td>...</td>\n      <td>0</td>\n      <td>0</td>\n      <td>0</td>\n      <td>0</td>\n      <td>0</td>\n      <td>0</td>\n      <td>0</td>\n      <td>0</td>\n      <td>0</td>\n      <td>1748050105327063491</td>\n    </tr>\n    <tr>\n      <th>3</th>\n      <td>1749931359206871054</td>\n      <td>B2D8708DD64F4A263D237C309DDFC40F96962E5B6CF8E2...</td>\n      <td>1707621015370</td>\n      <td>2</td>\n      <td>0</td>\n      <td>0</td>\n      <td>0</td>\n      <td>0</td>\n      <td>HELPFUL</td>\n      <td>0</td>\n      <td>...</td>\n      <td>0</td>\n      <td>0</td>\n      <td>0</td>\n      <td>0</td>\n      <td>0</td>\n      <td>0</td>\n      <td>0</td>\n      <td>0</td>\n      <td>0</td>\n      <td>1749839770224566328</td>\n    </tr>\n    <tr>\n      <th>4</th>\n      <td>1755964879553327466</td>\n      <td>B2D8708DD64F4A263D237C309DDFC40F96962E5B6CF8E2...</td>\n      <td>1707509443077</td>\n      <td>2</td>\n      <td>0</td>\n      <td>0</td>\n      <td>0</td>\n      <td>0</td>\n      <td>SOMEWHAT_HELPFUL</td>\n      <td>0</td>\n      <td>...</td>\n      <td>0</td>\n      <td>0</td>\n      <td>0</td>\n      <td>0</td>\n      <td>0</td>\n      <td>0</td>\n      <td>0</td>\n      <td>0</td>\n      <td>0</td>\n      <td>1755959073189617680</td>\n    </tr>\n  </tbody>\n</table>\n<p>5 rows × 32 columns</p>\n</div>"
     },
     "execution_count": 17,
     "metadata": {},
     "output_type": "execute_result"
    }
   ],
   "source": [
    "raw.head()"
   ]
  },
  {
   "cell_type": "code",
   "execution_count": 54,
   "id": "5649b5df",
   "metadata": {
    "ExecuteTime": {
     "end_time": "2024-04-04T19:53:01.277809Z",
     "start_time": "2024-04-04T19:53:00.680670Z"
    }
   },
   "outputs": [],
   "source": [
    "random_raw = raw.sample(frac=0.2, random_state = 69420)"
   ]
  },
  {
   "cell_type": "code",
   "execution_count": 55,
   "id": "c4678818",
   "metadata": {
    "ExecuteTime": {
     "end_time": "2024-04-04T19:53:05.928709Z",
     "start_time": "2024-04-04T19:53:05.913178Z"
    }
   },
   "outputs": [
    {
     "data": {
      "text/plain": "                      noteId  \\\n9364138  1761266554724131298   \n3732057  1749115176345821522   \n44916    1657432813514240007   \n9028062  1736556082275778776   \n154481   1695023741590233289   \n\n                                        raterParticipantId  createdAtMillis  \\\n9364138  49D3EC9394CFA8D34858BA3B634DF8B13A29DF22F56E38...    1708756408185   \n3732057  FBFC3E6094D2E063FC95321B0284CDF9EDCCE347E8DC9E...    1705867550251   \n44916    E9EE0EBEACD030DD0EB9F05ADFE1911B8436D0F8E326D1...    1684022553110   \n9028062  348A77843E3CF15D4168233C9BA8DF97DFF472897A3797...    1702922758645   \n154481   88733EA1B79B5367B033493F21033C00EC180D554D3D6B...    1693030322913   \n\n         version  agree  disagree  helpful  notHelpful helpfulnessLevel  \\\n9364138        2      0         0        0           0          HELPFUL   \n3732057        2      0         0        0           0      NOT_HELPFUL   \n44916          2      0         0        0           0          HELPFUL   \n9028062        2      0         0        0           0          HELPFUL   \n154481         2      0         0        0           0      NOT_HELPFUL   \n\n         helpfulOther  ...  notHelpfulMissingKeyPoints  notHelpfulOutdated  \\\n9364138             0  ...                           0                   0   \n3732057             0  ...                           0                   0   \n44916               0  ...                           0                   0   \n9028062             0  ...                           0                   0   \n154481              0  ...                           1                   0   \n\n         notHelpfulHardToUnderstand  notHelpfulArgumentativeOrBiased  \\\n9364138                           0                                0   \n3732057                           0                                0   \n44916                             0                                0   \n9028062                           0                                0   \n154481                            0                                0   \n\n         notHelpfulOffTopic  notHelpfulSpamHarassmentOrAbuse  \\\n9364138                   0                                0   \n3732057                   0                                0   \n44916                     0                                0   \n9028062                   0                                0   \n154481                    0                                0   \n\n         notHelpfulIrrelevantSources  notHelpfulOpinionSpeculation  \\\n9364138                            0                             0   \n3732057                            0                             0   \n44916                              0                             0   \n9028062                            0                             0   \n154481                             0                             0   \n\n         notHelpfulNoteNotNeeded       ratedOnTweetId  \n9364138                        0  1761005209612890563  \n3732057                        1  1749047519265632440  \n44916                          0                   -1  \n9028062                        0  1736432316514242971  \n154481                         0  1695013353230664068  \n\n[5 rows x 32 columns]",
      "text/html": "<div>\n<style scoped>\n    .dataframe tbody tr th:only-of-type {\n        vertical-align: middle;\n    }\n\n    .dataframe tbody tr th {\n        vertical-align: top;\n    }\n\n    .dataframe thead th {\n        text-align: right;\n    }\n</style>\n<table border=\"1\" class=\"dataframe\">\n  <thead>\n    <tr style=\"text-align: right;\">\n      <th></th>\n      <th>noteId</th>\n      <th>raterParticipantId</th>\n      <th>createdAtMillis</th>\n      <th>version</th>\n      <th>agree</th>\n      <th>disagree</th>\n      <th>helpful</th>\n      <th>notHelpful</th>\n      <th>helpfulnessLevel</th>\n      <th>helpfulOther</th>\n      <th>...</th>\n      <th>notHelpfulMissingKeyPoints</th>\n      <th>notHelpfulOutdated</th>\n      <th>notHelpfulHardToUnderstand</th>\n      <th>notHelpfulArgumentativeOrBiased</th>\n      <th>notHelpfulOffTopic</th>\n      <th>notHelpfulSpamHarassmentOrAbuse</th>\n      <th>notHelpfulIrrelevantSources</th>\n      <th>notHelpfulOpinionSpeculation</th>\n      <th>notHelpfulNoteNotNeeded</th>\n      <th>ratedOnTweetId</th>\n    </tr>\n  </thead>\n  <tbody>\n    <tr>\n      <th>9364138</th>\n      <td>1761266554724131298</td>\n      <td>49D3EC9394CFA8D34858BA3B634DF8B13A29DF22F56E38...</td>\n      <td>1708756408185</td>\n      <td>2</td>\n      <td>0</td>\n      <td>0</td>\n      <td>0</td>\n      <td>0</td>\n      <td>HELPFUL</td>\n      <td>0</td>\n      <td>...</td>\n      <td>0</td>\n      <td>0</td>\n      <td>0</td>\n      <td>0</td>\n      <td>0</td>\n      <td>0</td>\n      <td>0</td>\n      <td>0</td>\n      <td>0</td>\n      <td>1761005209612890563</td>\n    </tr>\n    <tr>\n      <th>3732057</th>\n      <td>1749115176345821522</td>\n      <td>FBFC3E6094D2E063FC95321B0284CDF9EDCCE347E8DC9E...</td>\n      <td>1705867550251</td>\n      <td>2</td>\n      <td>0</td>\n      <td>0</td>\n      <td>0</td>\n      <td>0</td>\n      <td>NOT_HELPFUL</td>\n      <td>0</td>\n      <td>...</td>\n      <td>0</td>\n      <td>0</td>\n      <td>0</td>\n      <td>0</td>\n      <td>0</td>\n      <td>0</td>\n      <td>0</td>\n      <td>0</td>\n      <td>1</td>\n      <td>1749047519265632440</td>\n    </tr>\n    <tr>\n      <th>44916</th>\n      <td>1657432813514240007</td>\n      <td>E9EE0EBEACD030DD0EB9F05ADFE1911B8436D0F8E326D1...</td>\n      <td>1684022553110</td>\n      <td>2</td>\n      <td>0</td>\n      <td>0</td>\n      <td>0</td>\n      <td>0</td>\n      <td>HELPFUL</td>\n      <td>0</td>\n      <td>...</td>\n      <td>0</td>\n      <td>0</td>\n      <td>0</td>\n      <td>0</td>\n      <td>0</td>\n      <td>0</td>\n      <td>0</td>\n      <td>0</td>\n      <td>0</td>\n      <td>-1</td>\n    </tr>\n    <tr>\n      <th>9028062</th>\n      <td>1736556082275778776</td>\n      <td>348A77843E3CF15D4168233C9BA8DF97DFF472897A3797...</td>\n      <td>1702922758645</td>\n      <td>2</td>\n      <td>0</td>\n      <td>0</td>\n      <td>0</td>\n      <td>0</td>\n      <td>HELPFUL</td>\n      <td>0</td>\n      <td>...</td>\n      <td>0</td>\n      <td>0</td>\n      <td>0</td>\n      <td>0</td>\n      <td>0</td>\n      <td>0</td>\n      <td>0</td>\n      <td>0</td>\n      <td>0</td>\n      <td>1736432316514242971</td>\n    </tr>\n    <tr>\n      <th>154481</th>\n      <td>1695023741590233289</td>\n      <td>88733EA1B79B5367B033493F21033C00EC180D554D3D6B...</td>\n      <td>1693030322913</td>\n      <td>2</td>\n      <td>0</td>\n      <td>0</td>\n      <td>0</td>\n      <td>0</td>\n      <td>NOT_HELPFUL</td>\n      <td>0</td>\n      <td>...</td>\n      <td>1</td>\n      <td>0</td>\n      <td>0</td>\n      <td>0</td>\n      <td>0</td>\n      <td>0</td>\n      <td>0</td>\n      <td>0</td>\n      <td>0</td>\n      <td>1695013353230664068</td>\n    </tr>\n  </tbody>\n</table>\n<p>5 rows × 32 columns</p>\n</div>"
     },
     "execution_count": 55,
     "metadata": {},
     "output_type": "execute_result"
    }
   ],
   "source": [
    "random_raw = pd.DataFrame(random_raw)\n",
    "\n",
    "random_raw.head()"
   ]
  },
  {
   "cell_type": "code",
   "execution_count": 56,
   "id": "cb63b108",
   "metadata": {
    "ExecuteTime": {
     "end_time": "2024-04-04T19:53:07.201767Z",
     "start_time": "2024-04-04T19:53:07.188376Z"
    }
   },
   "outputs": [
    {
     "data": {
      "text/plain": "(613789, 32)"
     },
     "execution_count": 56,
     "metadata": {},
     "output_type": "execute_result"
    }
   ],
   "source": [
    "random_raw.shape"
   ]
  },
  {
   "cell_type": "markdown",
   "id": "2aa63e6c",
   "metadata": {},
   "source": [
    "## Exploration"
   ]
  },
  {
   "cell_type": "code",
   "execution_count": 57,
   "id": "d1abc7cf",
   "metadata": {
    "ExecuteTime": {
     "end_time": "2024-04-04T19:53:07.217770Z",
     "start_time": "2024-04-04T19:53:07.202765Z"
    }
   },
   "outputs": [
    {
     "data": {
      "text/plain": "count    613789.000000\nmean          0.038204\nstd           0.191688\nmin           0.000000\n25%           0.000000\n50%           0.000000\n75%           0.000000\nmax           1.000000\nName: notHelpfulSpamHarassmentOrAbuse, dtype: float64"
     },
     "execution_count": 57,
     "metadata": {},
     "output_type": "execute_result"
    }
   ],
   "source": [
    "random_raw['notHelpfulSpamHarassmentOrAbuse'].describe()"
   ]
  },
  {
   "cell_type": "code",
   "execution_count": 58,
   "id": "5e7fd4b1",
   "metadata": {
    "ExecuteTime": {
     "end_time": "2024-04-04T19:53:07.372826Z",
     "start_time": "2024-04-04T19:53:07.220769Z"
    }
   },
   "outputs": [
    {
     "data": {
      "text/plain": "noteId                                  False\nraterParticipantId                      False\ncreatedAtMillis                         False\nversion                                 False\nagree                                   False\ndisagree                                False\nhelpful                                 False\nnotHelpful                              False\nhelpfulnessLevel                         True\nhelpfulOther                            False\nhelpfulInformative                      False\nhelpfulClear                            False\nhelpfulEmpathetic                       False\nhelpfulGoodSources                      False\nhelpfulUniqueContext                    False\nhelpfulAddressesClaim                   False\nhelpfulImportantContext                 False\nhelpfulUnbiasedLanguage                 False\nnotHelpfulOther                         False\nnotHelpfulIncorrect                     False\nnotHelpfulSourcesMissingOrUnreliable    False\nnotHelpfulOpinionSpeculationOrBias      False\nnotHelpfulMissingKeyPoints              False\nnotHelpfulOutdated                      False\nnotHelpfulHardToUnderstand              False\nnotHelpfulArgumentativeOrBiased         False\nnotHelpfulOffTopic                      False\nnotHelpfulSpamHarassmentOrAbuse         False\nnotHelpfulIrrelevantSources             False\nnotHelpfulOpinionSpeculation            False\nnotHelpfulNoteNotNeeded                 False\nratedOnTweetId                          False\ndtype: bool"
     },
     "execution_count": 58,
     "metadata": {},
     "output_type": "execute_result"
    }
   ],
   "source": [
    "random_raw.isna().any()"
   ]
  },
  {
   "cell_type": "code",
   "execution_count": 59,
   "id": "95bd78c9",
   "metadata": {
    "ExecuteTime": {
     "end_time": "2024-04-04T19:53:07.434561Z",
     "start_time": "2024-04-04T19:53:07.373826Z"
    }
   },
   "outputs": [
    {
     "data": {
      "text/plain": "                      noteId  \\\n9364138  1761266554724131298   \n3732057  1749115176345821522   \n44916    1657432813514240007   \n9028062  1736556082275778776   \n154481   1695023741590233289   \n\n                                        raterParticipantId  createdAtMillis  \\\n9364138  49D3EC9394CFA8D34858BA3B634DF8B13A29DF22F56E38...    1708756408185   \n3732057  FBFC3E6094D2E063FC95321B0284CDF9EDCCE347E8DC9E...    1705867550251   \n44916    E9EE0EBEACD030DD0EB9F05ADFE1911B8436D0F8E326D1...    1684022553110   \n9028062  348A77843E3CF15D4168233C9BA8DF97DFF472897A3797...    1702922758645   \n154481   88733EA1B79B5367B033493F21033C00EC180D554D3D6B...    1693030322913   \n\n         version  agree  disagree helpfulnessLevel  helpfulOther  \\\n9364138        2      0         0          HELPFUL             0   \n3732057        2      0         0      NOT_HELPFUL             0   \n44916          2      0         0          HELPFUL             0   \n9028062        2      0         0          HELPFUL             0   \n154481         2      0         0      NOT_HELPFUL             0   \n\n         helpfulClear  helpfulGoodSources  ...  notHelpfulIncorrect  \\\n9364138             1                   1  ...                    0   \n3732057             0                   0  ...                    0   \n44916               1                   1  ...                    0   \n9028062             0                   1  ...                    0   \n154481              0                   0  ...                    0   \n\n         notHelpfulSourcesMissingOrUnreliable  notHelpfulMissingKeyPoints  \\\n9364138                                     0                           0   \n3732057                                     0                           0   \n44916                                       0                           0   \n9028062                                     0                           0   \n154481                                      0                           1   \n\n         notHelpfulHardToUnderstand  notHelpfulArgumentativeOrBiased  \\\n9364138                           0                                0   \n3732057                           0                                0   \n44916                             0                                0   \n9028062                           0                                0   \n154481                            0                                0   \n\n         notHelpfulSpamHarassmentOrAbuse  notHelpfulIrrelevantSources  \\\n9364138                                0                            0   \n3732057                                0                            0   \n44916                                  0                            0   \n9028062                                0                            0   \n154481                                 0                            0   \n\n         notHelpfulOpinionSpeculation  notHelpfulNoteNotNeeded  \\\n9364138                             0                        0   \n3732057                             0                        1   \n44916                               0                        0   \n9028062                             0                        0   \n154481                              0                        0   \n\n              ratedOnTweetId  \n9364138  1761005209612890563  \n3732057  1749047519265632440  \n44916                     -1  \n9028062  1736432316514242971  \n154481   1695013353230664068  \n\n[5 rows x 24 columns]",
      "text/html": "<div>\n<style scoped>\n    .dataframe tbody tr th:only-of-type {\n        vertical-align: middle;\n    }\n\n    .dataframe tbody tr th {\n        vertical-align: top;\n    }\n\n    .dataframe thead th {\n        text-align: right;\n    }\n</style>\n<table border=\"1\" class=\"dataframe\">\n  <thead>\n    <tr style=\"text-align: right;\">\n      <th></th>\n      <th>noteId</th>\n      <th>raterParticipantId</th>\n      <th>createdAtMillis</th>\n      <th>version</th>\n      <th>agree</th>\n      <th>disagree</th>\n      <th>helpfulnessLevel</th>\n      <th>helpfulOther</th>\n      <th>helpfulClear</th>\n      <th>helpfulGoodSources</th>\n      <th>...</th>\n      <th>notHelpfulIncorrect</th>\n      <th>notHelpfulSourcesMissingOrUnreliable</th>\n      <th>notHelpfulMissingKeyPoints</th>\n      <th>notHelpfulHardToUnderstand</th>\n      <th>notHelpfulArgumentativeOrBiased</th>\n      <th>notHelpfulSpamHarassmentOrAbuse</th>\n      <th>notHelpfulIrrelevantSources</th>\n      <th>notHelpfulOpinionSpeculation</th>\n      <th>notHelpfulNoteNotNeeded</th>\n      <th>ratedOnTweetId</th>\n    </tr>\n  </thead>\n  <tbody>\n    <tr>\n      <th>9364138</th>\n      <td>1761266554724131298</td>\n      <td>49D3EC9394CFA8D34858BA3B634DF8B13A29DF22F56E38...</td>\n      <td>1708756408185</td>\n      <td>2</td>\n      <td>0</td>\n      <td>0</td>\n      <td>HELPFUL</td>\n      <td>0</td>\n      <td>1</td>\n      <td>1</td>\n      <td>...</td>\n      <td>0</td>\n      <td>0</td>\n      <td>0</td>\n      <td>0</td>\n      <td>0</td>\n      <td>0</td>\n      <td>0</td>\n      <td>0</td>\n      <td>0</td>\n      <td>1761005209612890563</td>\n    </tr>\n    <tr>\n      <th>3732057</th>\n      <td>1749115176345821522</td>\n      <td>FBFC3E6094D2E063FC95321B0284CDF9EDCCE347E8DC9E...</td>\n      <td>1705867550251</td>\n      <td>2</td>\n      <td>0</td>\n      <td>0</td>\n      <td>NOT_HELPFUL</td>\n      <td>0</td>\n      <td>0</td>\n      <td>0</td>\n      <td>...</td>\n      <td>0</td>\n      <td>0</td>\n      <td>0</td>\n      <td>0</td>\n      <td>0</td>\n      <td>0</td>\n      <td>0</td>\n      <td>0</td>\n      <td>1</td>\n      <td>1749047519265632440</td>\n    </tr>\n    <tr>\n      <th>44916</th>\n      <td>1657432813514240007</td>\n      <td>E9EE0EBEACD030DD0EB9F05ADFE1911B8436D0F8E326D1...</td>\n      <td>1684022553110</td>\n      <td>2</td>\n      <td>0</td>\n      <td>0</td>\n      <td>HELPFUL</td>\n      <td>0</td>\n      <td>1</td>\n      <td>1</td>\n      <td>...</td>\n      <td>0</td>\n      <td>0</td>\n      <td>0</td>\n      <td>0</td>\n      <td>0</td>\n      <td>0</td>\n      <td>0</td>\n      <td>0</td>\n      <td>0</td>\n      <td>-1</td>\n    </tr>\n    <tr>\n      <th>9028062</th>\n      <td>1736556082275778776</td>\n      <td>348A77843E3CF15D4168233C9BA8DF97DFF472897A3797...</td>\n      <td>1702922758645</td>\n      <td>2</td>\n      <td>0</td>\n      <td>0</td>\n      <td>HELPFUL</td>\n      <td>0</td>\n      <td>0</td>\n      <td>1</td>\n      <td>...</td>\n      <td>0</td>\n      <td>0</td>\n      <td>0</td>\n      <td>0</td>\n      <td>0</td>\n      <td>0</td>\n      <td>0</td>\n      <td>0</td>\n      <td>0</td>\n      <td>1736432316514242971</td>\n    </tr>\n    <tr>\n      <th>154481</th>\n      <td>1695023741590233289</td>\n      <td>88733EA1B79B5367B033493F21033C00EC180D554D3D6B...</td>\n      <td>1693030322913</td>\n      <td>2</td>\n      <td>0</td>\n      <td>0</td>\n      <td>NOT_HELPFUL</td>\n      <td>0</td>\n      <td>0</td>\n      <td>0</td>\n      <td>...</td>\n      <td>0</td>\n      <td>0</td>\n      <td>1</td>\n      <td>0</td>\n      <td>0</td>\n      <td>0</td>\n      <td>0</td>\n      <td>0</td>\n      <td>0</td>\n      <td>1695013353230664068</td>\n    </tr>\n  </tbody>\n</table>\n<p>5 rows × 24 columns</p>\n</div>"
     },
     "execution_count": 59,
     "metadata": {},
     "output_type": "execute_result"
    }
   ],
   "source": [
    "drop= ['helpful', 'notHelpful', 'helpfulEmpathetic', 'helpfulInformative',\n",
    "        'helpfulUniqueContext','notHelpfulOpinionSpeculationOrBias', \n",
    "        'notHelpfulOutdated' ,'notHelpfulOffTopic']\n",
    "\n",
    "df = random_raw.drop(drop, axis = 1)\n",
    "df.head()"
   ]
  },
  {
   "cell_type": "code",
   "outputs": [
    {
     "data": {
      "text/plain": "noteId                                    0\nraterParticipantId                        0\ncreatedAtMillis                           0\nversion                                   0\nagree                                     0\ndisagree                                  0\nhelpfulnessLevel                        691\nhelpfulOther                              0\nhelpfulClear                              0\nhelpfulGoodSources                        0\nhelpfulAddressesClaim                     0\nhelpfulImportantContext                   0\nhelpfulUnbiasedLanguage                   0\nnotHelpfulOther                           0\nnotHelpfulIncorrect                       0\nnotHelpfulSourcesMissingOrUnreliable      0\nnotHelpfulMissingKeyPoints                0\nnotHelpfulHardToUnderstand                0\nnotHelpfulArgumentativeOrBiased           0\nnotHelpfulSpamHarassmentOrAbuse           0\nnotHelpfulIrrelevantSources               0\nnotHelpfulOpinionSpeculation              0\nnotHelpfulNoteNotNeeded                   0\nratedOnTweetId                            0\ndtype: int64"
     },
     "execution_count": 60,
     "metadata": {},
     "output_type": "execute_result"
    }
   ],
   "source": [
    "df.isna().sum()"
   ],
   "metadata": {
    "collapsed": false,
    "ExecuteTime": {
     "end_time": "2024-04-04T19:53:07.593512Z",
     "start_time": "2024-04-04T19:53:07.437562Z"
    }
   },
   "id": "426339f853a9b570",
   "execution_count": 60
  },
  {
   "cell_type": "code",
   "outputs": [],
   "source": [
    "df.dropna(inplace = True)"
   ],
   "metadata": {
    "collapsed": false,
    "ExecuteTime": {
     "end_time": "2024-04-04T19:53:08.234979Z",
     "start_time": "2024-04-04T19:53:08.034609Z"
    }
   },
   "id": "e95126f0aed1a54d",
   "execution_count": 61
  },
  {
   "cell_type": "markdown",
   "source": [
    "## Write to File"
   ],
   "metadata": {},
   "id": "184cd965"
  },
  {
   "cell_type": "code",
   "execution_count": 62,
   "id": "c79136bb",
   "metadata": {
    "ExecuteTime": {
     "end_time": "2024-04-04T19:53:11.921719Z",
     "start_time": "2024-04-04T19:53:09.296242Z"
    }
   },
   "outputs": [],
   "source": [
    "df.to_csv('ratings_clean.csv', index = False)"
   ]
  }
 ],
 "metadata": {
  "kernelspec": {
   "display_name": "Python 3 (ipykernel)",
   "language": "python",
   "name": "python3"
  },
  "language_info": {
   "codemirror_mode": {
    "name": "ipython",
    "version": 3
   },
   "file_extension": ".py",
   "mimetype": "text/x-python",
   "name": "python",
   "nbconvert_exporter": "python",
   "pygments_lexer": "ipython3",
   "version": "3.10.9"
  }
 },
 "nbformat": 4,
 "nbformat_minor": 5
}
